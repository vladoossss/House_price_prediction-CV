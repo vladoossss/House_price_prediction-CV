{
  "nbformat": 4,
  "nbformat_minor": 0,
  "metadata": {
    "colab": {
      "name": "hp_final_model.ipynb",
      "provenance": [],
      "collapsed_sections": [],
      "toc_visible": true,
      "authorship_tag": "ABX9TyPt2iYFCRLvBdyWczg00P+y",
      "include_colab_link": true
    },
    "kernelspec": {
      "name": "python3",
      "display_name": "Python 3"
    },
    "language_info": {
      "name": "python"
    },
    "accelerator": "GPU",
    "widgets": {
      "application/vnd.jupyter.widget-state+json": {
        "cecfde6263054f18a51c88bf556a5a84": {
          "model_module": "@jupyter-widgets/controls",
          "model_name": "HBoxModel",
          "state": {
            "_view_name": "HBoxView",
            "_dom_classes": [],
            "_model_name": "HBoxModel",
            "_view_module": "@jupyter-widgets/controls",
            "_model_module_version": "1.5.0",
            "_view_count": null,
            "_view_module_version": "1.5.0",
            "box_style": "",
            "layout": "IPY_MODEL_3f66e6f1caee4499b49f96225d550b7d",
            "_model_module": "@jupyter-widgets/controls",
            "children": [
              "IPY_MODEL_d2a3884df4dc4e0897ac78f456c2b798",
              "IPY_MODEL_572b65cd81424b8c8281f9c422a1f605"
            ]
          }
        },
        "3f66e6f1caee4499b49f96225d550b7d": {
          "model_module": "@jupyter-widgets/base",
          "model_name": "LayoutModel",
          "state": {
            "_view_name": "LayoutView",
            "grid_template_rows": null,
            "right": null,
            "justify_content": null,
            "_view_module": "@jupyter-widgets/base",
            "overflow": null,
            "_model_module_version": "1.2.0",
            "_view_count": null,
            "flex_flow": null,
            "width": null,
            "min_width": null,
            "border": null,
            "align_items": null,
            "bottom": null,
            "_model_module": "@jupyter-widgets/base",
            "top": null,
            "grid_column": null,
            "overflow_y": null,
            "overflow_x": null,
            "grid_auto_flow": null,
            "grid_area": null,
            "grid_template_columns": null,
            "flex": null,
            "_model_name": "LayoutModel",
            "justify_items": null,
            "grid_row": null,
            "max_height": null,
            "align_content": null,
            "visibility": null,
            "align_self": null,
            "height": null,
            "min_height": null,
            "padding": null,
            "grid_auto_rows": null,
            "grid_gap": null,
            "max_width": null,
            "order": null,
            "_view_module_version": "1.2.0",
            "grid_template_areas": null,
            "object_position": null,
            "object_fit": null,
            "grid_auto_columns": null,
            "margin": null,
            "display": null,
            "left": null
          }
        },
        "d2a3884df4dc4e0897ac78f456c2b798": {
          "model_module": "@jupyter-widgets/controls",
          "model_name": "FloatProgressModel",
          "state": {
            "_view_name": "ProgressView",
            "style": "IPY_MODEL_f1b4d29e08ef42d498c8d7520770494a",
            "_dom_classes": [],
            "description": "100%",
            "_model_name": "FloatProgressModel",
            "bar_style": "success",
            "max": 535,
            "_view_module": "@jupyter-widgets/controls",
            "_model_module_version": "1.5.0",
            "value": 535,
            "_view_count": null,
            "_view_module_version": "1.5.0",
            "orientation": "horizontal",
            "min": 0,
            "description_tooltip": null,
            "_model_module": "@jupyter-widgets/controls",
            "layout": "IPY_MODEL_7edcee3b1042437aa65089266208f7d7"
          }
        },
        "572b65cd81424b8c8281f9c422a1f605": {
          "model_module": "@jupyter-widgets/controls",
          "model_name": "HTMLModel",
          "state": {
            "_view_name": "HTMLView",
            "style": "IPY_MODEL_a2965ac7e7dc44df8074017658c67e21",
            "_dom_classes": [],
            "description": "",
            "_model_name": "HTMLModel",
            "placeholder": "​",
            "_view_module": "@jupyter-widgets/controls",
            "_model_module_version": "1.5.0",
            "value": " 535/535 [03:29&lt;00:00,  2.56it/s]",
            "_view_count": null,
            "_view_module_version": "1.5.0",
            "description_tooltip": null,
            "_model_module": "@jupyter-widgets/controls",
            "layout": "IPY_MODEL_1b92e145aae5409598e64102d14a775d"
          }
        },
        "f1b4d29e08ef42d498c8d7520770494a": {
          "model_module": "@jupyter-widgets/controls",
          "model_name": "ProgressStyleModel",
          "state": {
            "_view_name": "StyleView",
            "_model_name": "ProgressStyleModel",
            "description_width": "initial",
            "_view_module": "@jupyter-widgets/base",
            "_model_module_version": "1.5.0",
            "_view_count": null,
            "_view_module_version": "1.2.0",
            "bar_color": null,
            "_model_module": "@jupyter-widgets/controls"
          }
        },
        "7edcee3b1042437aa65089266208f7d7": {
          "model_module": "@jupyter-widgets/base",
          "model_name": "LayoutModel",
          "state": {
            "_view_name": "LayoutView",
            "grid_template_rows": null,
            "right": null,
            "justify_content": null,
            "_view_module": "@jupyter-widgets/base",
            "overflow": null,
            "_model_module_version": "1.2.0",
            "_view_count": null,
            "flex_flow": null,
            "width": null,
            "min_width": null,
            "border": null,
            "align_items": null,
            "bottom": null,
            "_model_module": "@jupyter-widgets/base",
            "top": null,
            "grid_column": null,
            "overflow_y": null,
            "overflow_x": null,
            "grid_auto_flow": null,
            "grid_area": null,
            "grid_template_columns": null,
            "flex": null,
            "_model_name": "LayoutModel",
            "justify_items": null,
            "grid_row": null,
            "max_height": null,
            "align_content": null,
            "visibility": null,
            "align_self": null,
            "height": null,
            "min_height": null,
            "padding": null,
            "grid_auto_rows": null,
            "grid_gap": null,
            "max_width": null,
            "order": null,
            "_view_module_version": "1.2.0",
            "grid_template_areas": null,
            "object_position": null,
            "object_fit": null,
            "grid_auto_columns": null,
            "margin": null,
            "display": null,
            "left": null
          }
        },
        "a2965ac7e7dc44df8074017658c67e21": {
          "model_module": "@jupyter-widgets/controls",
          "model_name": "DescriptionStyleModel",
          "state": {
            "_view_name": "StyleView",
            "_model_name": "DescriptionStyleModel",
            "description_width": "",
            "_view_module": "@jupyter-widgets/base",
            "_model_module_version": "1.5.0",
            "_view_count": null,
            "_view_module_version": "1.2.0",
            "_model_module": "@jupyter-widgets/controls"
          }
        },
        "1b92e145aae5409598e64102d14a775d": {
          "model_module": "@jupyter-widgets/base",
          "model_name": "LayoutModel",
          "state": {
            "_view_name": "LayoutView",
            "grid_template_rows": null,
            "right": null,
            "justify_content": null,
            "_view_module": "@jupyter-widgets/base",
            "overflow": null,
            "_model_module_version": "1.2.0",
            "_view_count": null,
            "flex_flow": null,
            "width": null,
            "min_width": null,
            "border": null,
            "align_items": null,
            "bottom": null,
            "_model_module": "@jupyter-widgets/base",
            "top": null,
            "grid_column": null,
            "overflow_y": null,
            "overflow_x": null,
            "grid_auto_flow": null,
            "grid_area": null,
            "grid_template_columns": null,
            "flex": null,
            "_model_name": "LayoutModel",
            "justify_items": null,
            "grid_row": null,
            "max_height": null,
            "align_content": null,
            "visibility": null,
            "align_self": null,
            "height": null,
            "min_height": null,
            "padding": null,
            "grid_auto_rows": null,
            "grid_gap": null,
            "max_width": null,
            "order": null,
            "_view_module_version": "1.2.0",
            "grid_template_areas": null,
            "object_position": null,
            "object_fit": null,
            "grid_auto_columns": null,
            "margin": null,
            "display": null,
            "left": null
          }
        },
        "aefd3ad1085f4d419e38c49ab6776008": {
          "model_module": "@jupyter-widgets/controls",
          "model_name": "HBoxModel",
          "state": {
            "_view_name": "HBoxView",
            "_dom_classes": [],
            "_model_name": "HBoxModel",
            "_view_module": "@jupyter-widgets/controls",
            "_model_module_version": "1.5.0",
            "_view_count": null,
            "_view_module_version": "1.5.0",
            "box_style": "",
            "layout": "IPY_MODEL_d22b5ebc48da47e09f96b7ed5eee7a73",
            "_model_module": "@jupyter-widgets/controls",
            "children": [
              "IPY_MODEL_54b596d7e5a34a4da8b22faabc933459",
              "IPY_MODEL_c003156127d34e74ba03c41ef5fa9b2d"
            ]
          }
        },
        "d22b5ebc48da47e09f96b7ed5eee7a73": {
          "model_module": "@jupyter-widgets/base",
          "model_name": "LayoutModel",
          "state": {
            "_view_name": "LayoutView",
            "grid_template_rows": null,
            "right": null,
            "justify_content": null,
            "_view_module": "@jupyter-widgets/base",
            "overflow": null,
            "_model_module_version": "1.2.0",
            "_view_count": null,
            "flex_flow": null,
            "width": null,
            "min_width": null,
            "border": null,
            "align_items": null,
            "bottom": null,
            "_model_module": "@jupyter-widgets/base",
            "top": null,
            "grid_column": null,
            "overflow_y": null,
            "overflow_x": null,
            "grid_auto_flow": null,
            "grid_area": null,
            "grid_template_columns": null,
            "flex": null,
            "_model_name": "LayoutModel",
            "justify_items": null,
            "grid_row": null,
            "max_height": null,
            "align_content": null,
            "visibility": null,
            "align_self": null,
            "height": null,
            "min_height": null,
            "padding": null,
            "grid_auto_rows": null,
            "grid_gap": null,
            "max_width": null,
            "order": null,
            "_view_module_version": "1.2.0",
            "grid_template_areas": null,
            "object_position": null,
            "object_fit": null,
            "grid_auto_columns": null,
            "margin": null,
            "display": null,
            "left": null
          }
        },
        "54b596d7e5a34a4da8b22faabc933459": {
          "model_module": "@jupyter-widgets/controls",
          "model_name": "FloatProgressModel",
          "state": {
            "_view_name": "ProgressView",
            "style": "IPY_MODEL_42603b97796948539ed2b764aec25274",
            "_dom_classes": [],
            "description": "100%",
            "_model_name": "FloatProgressModel",
            "bar_style": "success",
            "max": 178728960,
            "_view_module": "@jupyter-widgets/controls",
            "_model_module_version": "1.5.0",
            "value": 178728960,
            "_view_count": null,
            "_view_module_version": "1.5.0",
            "orientation": "horizontal",
            "min": 0,
            "description_tooltip": null,
            "_model_module": "@jupyter-widgets/controls",
            "layout": "IPY_MODEL_7a23fe98ce80458eb4b35c986507f0a6"
          }
        },
        "c003156127d34e74ba03c41ef5fa9b2d": {
          "model_module": "@jupyter-widgets/controls",
          "model_name": "HTMLModel",
          "state": {
            "_view_name": "HTMLView",
            "style": "IPY_MODEL_d5a30c2b7037450d909a0c31249bdf1f",
            "_dom_classes": [],
            "description": "",
            "_model_name": "HTMLModel",
            "placeholder": "​",
            "_view_module": "@jupyter-widgets/controls",
            "_model_module_version": "1.5.0",
            "value": " 170M/170M [03:09&lt;00:00, 942kB/s]",
            "_view_count": null,
            "_view_module_version": "1.5.0",
            "description_tooltip": null,
            "_model_module": "@jupyter-widgets/controls",
            "layout": "IPY_MODEL_d14d5981c50a475188559603dc0eafb0"
          }
        },
        "42603b97796948539ed2b764aec25274": {
          "model_module": "@jupyter-widgets/controls",
          "model_name": "ProgressStyleModel",
          "state": {
            "_view_name": "StyleView",
            "_model_name": "ProgressStyleModel",
            "description_width": "initial",
            "_view_module": "@jupyter-widgets/base",
            "_model_module_version": "1.5.0",
            "_view_count": null,
            "_view_module_version": "1.2.0",
            "bar_color": null,
            "_model_module": "@jupyter-widgets/controls"
          }
        },
        "7a23fe98ce80458eb4b35c986507f0a6": {
          "model_module": "@jupyter-widgets/base",
          "model_name": "LayoutModel",
          "state": {
            "_view_name": "LayoutView",
            "grid_template_rows": null,
            "right": null,
            "justify_content": null,
            "_view_module": "@jupyter-widgets/base",
            "overflow": null,
            "_model_module_version": "1.2.0",
            "_view_count": null,
            "flex_flow": null,
            "width": null,
            "min_width": null,
            "border": null,
            "align_items": null,
            "bottom": null,
            "_model_module": "@jupyter-widgets/base",
            "top": null,
            "grid_column": null,
            "overflow_y": null,
            "overflow_x": null,
            "grid_auto_flow": null,
            "grid_area": null,
            "grid_template_columns": null,
            "flex": null,
            "_model_name": "LayoutModel",
            "justify_items": null,
            "grid_row": null,
            "max_height": null,
            "align_content": null,
            "visibility": null,
            "align_self": null,
            "height": null,
            "min_height": null,
            "padding": null,
            "grid_auto_rows": null,
            "grid_gap": null,
            "max_width": null,
            "order": null,
            "_view_module_version": "1.2.0",
            "grid_template_areas": null,
            "object_position": null,
            "object_fit": null,
            "grid_auto_columns": null,
            "margin": null,
            "display": null,
            "left": null
          }
        },
        "d5a30c2b7037450d909a0c31249bdf1f": {
          "model_module": "@jupyter-widgets/controls",
          "model_name": "DescriptionStyleModel",
          "state": {
            "_view_name": "StyleView",
            "_model_name": "DescriptionStyleModel",
            "description_width": "",
            "_view_module": "@jupyter-widgets/base",
            "_model_module_version": "1.5.0",
            "_view_count": null,
            "_view_module_version": "1.2.0",
            "_model_module": "@jupyter-widgets/controls"
          }
        },
        "d14d5981c50a475188559603dc0eafb0": {
          "model_module": "@jupyter-widgets/base",
          "model_name": "LayoutModel",
          "state": {
            "_view_name": "LayoutView",
            "grid_template_rows": null,
            "right": null,
            "justify_content": null,
            "_view_module": "@jupyter-widgets/base",
            "overflow": null,
            "_model_module_version": "1.2.0",
            "_view_count": null,
            "flex_flow": null,
            "width": null,
            "min_width": null,
            "border": null,
            "align_items": null,
            "bottom": null,
            "_model_module": "@jupyter-widgets/base",
            "top": null,
            "grid_column": null,
            "overflow_y": null,
            "overflow_x": null,
            "grid_auto_flow": null,
            "grid_area": null,
            "grid_template_columns": null,
            "flex": null,
            "_model_name": "LayoutModel",
            "justify_items": null,
            "grid_row": null,
            "max_height": null,
            "align_content": null,
            "visibility": null,
            "align_self": null,
            "height": null,
            "min_height": null,
            "padding": null,
            "grid_auto_rows": null,
            "grid_gap": null,
            "max_width": null,
            "order": null,
            "_view_module_version": "1.2.0",
            "grid_template_areas": null,
            "object_position": null,
            "object_fit": null,
            "grid_auto_columns": null,
            "margin": null,
            "display": null,
            "left": null
          }
        }
      }
    }
  },
  "cells": [
    {
      "cell_type": "markdown",
      "metadata": {
        "id": "view-in-github",
        "colab_type": "text"
      },
      "source": [
        "<a href=\"https://colab.research.google.com/github/vladoossss/House_price_prediction-CV-/blob/main/hp_final_model.ipynb\" target=\"_parent\"><img src=\"https://colab.research.google.com/assets/colab-badge.svg\" alt=\"Open In Colab\"/></a>"
      ]
    },
    {
      "cell_type": "code",
      "metadata": {
        "colab": {
          "base_uri": "https://localhost:8080/"
        },
        "id": "O81mayftdKQj",
        "outputId": "85514003-cfd3-4874-dcae-8c791527e5ff"
      },
      "source": [
        "from google.colab import drive\n",
        "drive.mount('/content/drive')\n",
        "\n",
        "%cd /content/drive/My Drive/House_prices"
      ],
      "execution_count": null,
      "outputs": [
        {
          "output_type": "stream",
          "text": [
            "Mounted at /content/drive\n",
            "/content/drive/My Drive/House_prices\n"
          ],
          "name": "stdout"
        }
      ]
    },
    {
      "cell_type": "code",
      "metadata": {
        "id": "xbmTR3RkeCeA"
      },
      "source": [
        "import pandas as pd\n",
        "import numpy as np\n",
        "import glob\n",
        "import cv2\n",
        "import os\n",
        "import matplotlib.pyplot as plt\n",
        "import pickle\n",
        "from sklearn.preprocessing import StandardScaler\n",
        "\n",
        "import torch\n",
        "from torch import nn\n",
        "from tqdm.auto import tqdm\n",
        "from torch.utils.data import Dataset, DataLoader\n",
        "import torch.nn.functional as F\n",
        "from sklearn.metrics import r2_score"
      ],
      "execution_count": null,
      "outputs": []
    },
    {
      "cell_type": "code",
      "metadata": {
        "id": "57IV44kIgh4B"
      },
      "source": [
        ""
      ],
      "execution_count": null,
      "outputs": []
    },
    {
      "cell_type": "markdown",
      "metadata": {
        "id": "XjbSrcZfgihu"
      },
      "source": [
        "# Loading text data"
      ]
    },
    {
      "cell_type": "code",
      "metadata": {
        "colab": {
          "base_uri": "https://localhost:8080/",
          "height": 197
        },
        "id": "0qhvw_d3ggCt",
        "outputId": "c25f589b-9fb4-45fd-8b73-9b57bb9ea31c"
      },
      "source": [
        "cols = [\"bedrooms\", \"bathrooms\", \"area\", \"zipcode\", \"price\"]\n",
        "text_data = pd.read_csv('HousesInfo.txt', sep=' ', names=cols)\n",
        "\n",
        "text_data['bathPerBedroom'] = text_data.apply(lambda row: row.bedrooms / row.bathrooms, axis = 1)\n",
        "text_data['bedroomsPerArea'] = text_data.apply(lambda row: row.area / row.bedrooms, axis = 1)\n",
        "\n",
        "text_data.head()"
      ],
      "execution_count": null,
      "outputs": [
        {
          "output_type": "execute_result",
          "data": {
            "text/html": [
              "<div>\n",
              "<style scoped>\n",
              "    .dataframe tbody tr th:only-of-type {\n",
              "        vertical-align: middle;\n",
              "    }\n",
              "\n",
              "    .dataframe tbody tr th {\n",
              "        vertical-align: top;\n",
              "    }\n",
              "\n",
              "    .dataframe thead th {\n",
              "        text-align: right;\n",
              "    }\n",
              "</style>\n",
              "<table border=\"1\" class=\"dataframe\">\n",
              "  <thead>\n",
              "    <tr style=\"text-align: right;\">\n",
              "      <th></th>\n",
              "      <th>bedrooms</th>\n",
              "      <th>bathrooms</th>\n",
              "      <th>area</th>\n",
              "      <th>zipcode</th>\n",
              "      <th>price</th>\n",
              "      <th>bathPerBedroom</th>\n",
              "      <th>bedroomsPerArea</th>\n",
              "    </tr>\n",
              "  </thead>\n",
              "  <tbody>\n",
              "    <tr>\n",
              "      <th>0</th>\n",
              "      <td>4</td>\n",
              "      <td>4.0</td>\n",
              "      <td>4053</td>\n",
              "      <td>85255</td>\n",
              "      <td>869500</td>\n",
              "      <td>1.000000</td>\n",
              "      <td>1013.250000</td>\n",
              "    </tr>\n",
              "    <tr>\n",
              "      <th>1</th>\n",
              "      <td>4</td>\n",
              "      <td>3.0</td>\n",
              "      <td>3343</td>\n",
              "      <td>36372</td>\n",
              "      <td>865200</td>\n",
              "      <td>1.333333</td>\n",
              "      <td>835.750000</td>\n",
              "    </tr>\n",
              "    <tr>\n",
              "      <th>2</th>\n",
              "      <td>3</td>\n",
              "      <td>4.0</td>\n",
              "      <td>3923</td>\n",
              "      <td>85266</td>\n",
              "      <td>889000</td>\n",
              "      <td>0.750000</td>\n",
              "      <td>1307.666667</td>\n",
              "    </tr>\n",
              "    <tr>\n",
              "      <th>3</th>\n",
              "      <td>5</td>\n",
              "      <td>5.0</td>\n",
              "      <td>4022</td>\n",
              "      <td>85262</td>\n",
              "      <td>910000</td>\n",
              "      <td>1.000000</td>\n",
              "      <td>804.400000</td>\n",
              "    </tr>\n",
              "    <tr>\n",
              "      <th>4</th>\n",
              "      <td>3</td>\n",
              "      <td>4.0</td>\n",
              "      <td>4116</td>\n",
              "      <td>85266</td>\n",
              "      <td>971226</td>\n",
              "      <td>0.750000</td>\n",
              "      <td>1372.000000</td>\n",
              "    </tr>\n",
              "  </tbody>\n",
              "</table>\n",
              "</div>"
            ],
            "text/plain": [
              "   bedrooms  bathrooms  area  zipcode   price  bathPerBedroom  bedroomsPerArea\n",
              "0         4        4.0  4053    85255  869500        1.000000      1013.250000\n",
              "1         4        3.0  3343    36372  865200        1.333333       835.750000\n",
              "2         3        4.0  3923    85266  889000        0.750000      1307.666667\n",
              "3         5        5.0  4022    85262  910000        1.000000       804.400000\n",
              "4         3        4.0  4116    85266  971226        0.750000      1372.000000"
            ]
          },
          "metadata": {
            "tags": []
          },
          "execution_count": 3
        }
      ]
    },
    {
      "cell_type": "code",
      "metadata": {
        "colab": {
          "base_uri": "https://localhost:8080/"
        },
        "id": "3VYuOYRCauTL",
        "outputId": "1cae3c38-c1de-4509-e1ba-b838c88f3550"
      },
      "source": [
        "x_text = text_data.drop(['price'], axis=1)\n",
        "\n",
        "# стандартизация переменных\n",
        "sc = StandardScaler()\n",
        "sc.fit(x_text)\n",
        "\n",
        "#преобразование данных\n",
        "x_text = sc.transform(x_text)\n",
        "x_text = torch.tensor(x_text.astype('float32'))\n",
        "x_text"
      ],
      "execution_count": null,
      "outputs": [
        {
          "output_type": "execute_result",
          "data": {
            "text/plain": [
              "tensor([[ 0.5366,  1.3429,  1.3798, -0.7964, -0.8524,  1.3179],\n",
              "        [ 0.5366,  0.3370,  0.7995, -7.6474,  0.0214,  0.5851],\n",
              "        [-0.3255,  1.3429,  1.2736, -0.7949, -1.5077,  2.5335],\n",
              "        ...,\n",
              "        [-0.3255, -0.6689, -0.2868,  0.5036,  0.4582, -0.0937],\n",
              "        [ 0.5366,  0.3370, -0.0432,  0.5036,  0.0214, -0.4791],\n",
              "        [ 1.3988,  0.3370,  1.1698,  0.5036,  0.8951,  0.2690]])"
            ]
          },
          "metadata": {
            "tags": []
          },
          "execution_count": 4
        }
      ]
    },
    {
      "cell_type": "code",
      "metadata": {
        "colab": {
          "base_uri": "https://localhost:8080/"
        },
        "id": "NfDu6q52gk_Q",
        "outputId": "cb417e75-976b-4c5a-90ee-77172060f9ed"
      },
      "source": [
        "y = text_data.price\n",
        "len(y)"
      ],
      "execution_count": null,
      "outputs": [
        {
          "output_type": "execute_result",
          "data": {
            "text/plain": [
              "535"
            ]
          },
          "metadata": {
            "tags": []
          },
          "execution_count": 5
        }
      ]
    },
    {
      "cell_type": "code",
      "metadata": {
        "colab": {
          "base_uri": "https://localhost:8080/"
        },
        "id": "6OFgyWxYCJMP",
        "outputId": "7b1fb344-b9c4-44d9-aa3f-ae92c442c82a"
      },
      "source": [
        "# converting the target into torch format\n",
        "y = y.astype(int)\n",
        "y = torch.from_numpy(np.array(y).astype('float32'))\n",
        "y.shape"
      ],
      "execution_count": null,
      "outputs": [
        {
          "output_type": "execute_result",
          "data": {
            "text/plain": [
              "torch.Size([535])"
            ]
          },
          "metadata": {
            "tags": []
          },
          "execution_count": 6
        }
      ]
    },
    {
      "cell_type": "markdown",
      "metadata": {
        "id": "tFjPDxfGeIMY"
      },
      "source": [
        "# Loading images"
      ]
    },
    {
      "cell_type": "code",
      "metadata": {
        "id": "iwDmBlPAdSWv"
      },
      "source": [
        "def load_house_images(df, inputPath):\n",
        "  # initialize our images array (i.e., the house images themselves)\n",
        "  images = []\n",
        "\n",
        "  # loop over the indexes of the houses\n",
        "  for i in df.index.values:\n",
        "    # find the four images for the house and sort the file paths,\n",
        "    # ensuring the four are always in the *same order*\n",
        "    basePath = os.path.sep.join([inputPath, \"{}_*\".format(i + 1)])\n",
        "    housePaths = sorted(list(glob.glob(basePath)))\n",
        "\n",
        "    # initialize our list of input images along with the output image\n",
        "    # after *combining* the four input images\n",
        "    inputImages = []\n",
        "    outputImage = np.zeros((128, 128, 3), dtype=\"uint8\")\n",
        "\n",
        "    # loop over the input house paths\n",
        "    for housePath in housePaths:\n",
        "      # load the input image, resize it to be 32 32, and then\n",
        "      # update the list of input images\n",
        "      image = cv2.imread(housePath)\n",
        "      image = cv2.resize(image, (64, 64))\n",
        "      inputImages.append(image)\n",
        "\n",
        "    # tile the four input images in the output image such the first\n",
        "    # image goes in the top-right corner, the second image in the\n",
        "    # top-left corner, the third image in the bottom-right corner,\n",
        "    # and the final image in the bottom-left corner\n",
        "    outputImage[0:64, 0:64] = inputImages[0]\n",
        "    outputImage[0:64, 64:128] = inputImages[1]\n",
        "    outputImage[64:128, 64:128] = inputImages[2]\n",
        "    outputImage[64:128, 0:64] = inputImages[3]\n",
        "\n",
        "    outputImage = outputImage / 255.0\n",
        "    outputImage = outputImage.astype('float32')\n",
        "\n",
        "    # add the tiled image to our set of images the network will be\n",
        "    # trained on\n",
        "    images.append(outputImage)\n",
        "\n",
        "  # return our set of images\n",
        "  return np.array(images)"
      ],
      "execution_count": null,
      "outputs": []
    },
    {
      "cell_type": "code",
      "metadata": {
        "id": "JyiynqX8dnVu"
      },
      "source": [
        "images = load_house_images(text_data, \"Houses Dataset/\")"
      ],
      "execution_count": null,
      "outputs": []
    },
    {
      "cell_type": "code",
      "metadata": {
        "id": "VATY83Yjd0Ly"
      },
      "source": [
        "# сохраняем картинки\n",
        "#with open('images.pickle', 'wb') as f:\n",
        "#    pickle.dump(images, f)\n",
        "\n",
        "# загружаем картинки\n",
        "with open('images.pickle', 'rb') as f:\n",
        "    data_new = pickle.load(f)"
      ],
      "execution_count": null,
      "outputs": []
    },
    {
      "cell_type": "code",
      "metadata": {
        "colab": {
          "base_uri": "https://localhost:8080/"
        },
        "id": "BD24j9M54utP",
        "outputId": "dd211192-5cbb-45fe-8e17-cb22c1712bab"
      },
      "source": [
        "data_new[0]"
      ],
      "execution_count": null,
      "outputs": [
        {
          "output_type": "execute_result",
          "data": {
            "text/plain": [
              "array([[[0.5529412 , 0.6784314 , 0.7529412 ],\n",
              "        [0.43137255, 0.56078434, 0.6666667 ],\n",
              "        [0.36078432, 0.56078434, 0.6745098 ],\n",
              "        ...,\n",
              "        [0.34901962, 0.38431373, 0.48235294],\n",
              "        [0.25882354, 0.19607843, 0.2627451 ],\n",
              "        [0.20392157, 0.16078432, 0.24705882]],\n",
              "\n",
              "       [[0.5686275 , 0.70980394, 0.7490196 ],\n",
              "        [0.5019608 , 0.65882355, 0.73333335],\n",
              "        [0.34117648, 0.5137255 , 0.6313726 ],\n",
              "        ...,\n",
              "        [0.3882353 , 0.40784314, 0.5294118 ],\n",
              "        [0.19215687, 0.29411766, 0.40784314],\n",
              "        [0.04705882, 0.08235294, 0.18431373]],\n",
              "\n",
              "       [[0.39215687, 0.5411765 , 0.6156863 ],\n",
              "        [0.45490196, 0.59607846, 0.67058825],\n",
              "        [0.4       , 0.5764706 , 0.6862745 ],\n",
              "        ...,\n",
              "        [0.09019608, 0.12941177, 0.21176471],\n",
              "        [0.29411766, 0.36862746, 0.5176471 ],\n",
              "        [0.27058825, 0.3882353 , 0.5176471 ]],\n",
              "\n",
              "       ...,\n",
              "\n",
              "       [[0.6117647 , 0.62352943, 0.68235296],\n",
              "        [0.6784314 , 0.64705884, 0.6666667 ],\n",
              "        [0.7137255 , 0.7019608 , 0.7411765 ],\n",
              "        ...,\n",
              "        [0.627451  , 0.5529412 , 0.5411765 ],\n",
              "        [0.67058825, 0.59607846, 0.57254905],\n",
              "        [0.5411765 , 0.40784314, 0.38431373]],\n",
              "\n",
              "       [[0.5019608 , 0.5294118 , 0.63529414],\n",
              "        [0.73333335, 0.7411765 , 0.78431374],\n",
              "        [0.7137255 , 0.67058825, 0.7176471 ],\n",
              "        ...,\n",
              "        [0.50980395, 0.44313726, 0.4862745 ],\n",
              "        [0.4392157 , 0.4       , 0.34509805],\n",
              "        [0.34117648, 0.2901961 , 0.23137255]],\n",
              "\n",
              "       [[0.7372549 , 0.73333335, 0.7764706 ],\n",
              "        [0.78039217, 0.7176471 , 0.7490196 ],\n",
              "        [0.74509805, 0.6666667 , 0.6862745 ],\n",
              "        ...,\n",
              "        [0.5764706 , 0.39607844, 0.3764706 ],\n",
              "        [0.5803922 , 0.43137255, 0.35686275],\n",
              "        [0.6117647 , 0.5921569 , 0.5764706 ]]], dtype=float32)"
            ]
          },
          "metadata": {
            "tags": []
          },
          "execution_count": 96
        }
      ]
    },
    {
      "cell_type": "code",
      "metadata": {
        "colab": {
          "base_uri": "https://localhost:8080/",
          "height": 285
        },
        "id": "7Vct05omd5iH",
        "outputId": "8cf1b533-44bf-4f55-be0c-150d8072828e"
      },
      "source": [
        "plt.imshow(data_new[500])\n",
        "plt.show()\n",
        "\n",
        "data_new.shape"
      ],
      "execution_count": null,
      "outputs": [
        {
          "output_type": "display_data",
          "data": {
            "image/png": "[encoded data removed]",
            "text/plain": [
              "<Figure size 432x288 with 1 Axes>"
            ]
          },
          "metadata": {
            "tags": [],
            "needs_background": "light"
          }
        },
        {
          "output_type": "execute_result",
          "data": {
            "text/plain": [
              "(535, 128, 128, 3)"
            ]
          },
          "metadata": {
            "tags": []
          },
          "execution_count": 95
        }
      ]
    },
    {
      "cell_type": "code",
      "metadata": {
        "colab": {
          "base_uri": "https://localhost:8080/"
        },
        "id": "gphaL5hZITlj",
        "outputId": "bbe40cb0-8215-4490-b054-1713cefee84a"
      },
      "source": [
        "# converting training images into torch format\n",
        "data_new = data_new.reshape(535, 3, 128, 128)\n",
        "data_new  = torch.from_numpy(data_new)\n",
        "\n",
        "# shape of training data\n",
        "data_new.shape"
      ],
      "execution_count": null,
      "outputs": [
        {
          "output_type": "execute_result",
          "data": {
            "text/plain": [
              "torch.Size([535, 3, 128, 128])"
            ]
          },
          "metadata": {
            "tags": []
          },
          "execution_count": 10
        }
      ]
    },
    {
      "cell_type": "code",
      "metadata": {
        "id": "9S0yQI-FjN_t"
      },
      "source": [
        ""
      ],
      "execution_count": null,
      "outputs": []
    },
    {
      "cell_type": "code",
      "metadata": {
        "id": "-A45AD6njdAg"
      },
      "source": [
        ""
      ],
      "execution_count": null,
      "outputs": []
    },
    {
      "cell_type": "markdown",
      "metadata": {
        "id": "_gefThG-jddC"
      },
      "source": [
        "# Model 1 (own)"
      ]
    },
    {
      "cell_type": "markdown",
      "metadata": {
        "id": "8PGumkWcjOX7"
      },
      "source": [
        "## Dataset and Dataloader"
      ]
    },
    {
      "cell_type": "code",
      "metadata": {
        "id": "a04f7kGOkKEJ"
      },
      "source": [
        "class Images(Dataset):\n",
        "    def __init__(self, images, x_text, prices):\n",
        "        \"\"\"Init function should not do any heavy lifting, but\n",
        "            must initialize how many items are available in this data set.\n",
        "        \"\"\"\n",
        "        self.image = images\n",
        "        self.text = x_text\n",
        "        self.price = prices\n",
        "\n",
        "    def __len__(self):\n",
        "        \"\"\"return number of points in our dataset\"\"\"\n",
        "\n",
        "        return len(self.image)\n",
        "\n",
        "    def __getitem__(self, idx):\n",
        "        \"\"\" Here we have to return the item requested by `idx`\n",
        "            The PyTorch DataLoader class will use this method to make an iterable for\n",
        "            our training or validation loop.\n",
        "        \"\"\"\n",
        "        img = self.image[idx]\n",
        "        txt = self.text[idx]\n",
        "        pr = self.price[idx]\n",
        "\n",
        "        return img, txt, pr"
      ],
      "execution_count": null,
      "outputs": []
    },
    {
      "cell_type": "code",
      "metadata": {
        "id": "pcjcN2tpkquT"
      },
      "source": [
        "train_dataset = Images(data_new[:450], x_text[:450], y[:450])\n",
        "test_dataset = Images(data_new[450:], x_text[450:],y[450:])"
      ],
      "execution_count": null,
      "outputs": []
    },
    {
      "cell_type": "code",
      "metadata": {
        "id": "9-uOFGLCfK3Y"
      },
      "source": [
        "train_loader = DataLoader(train_dataset, batch_size=50)\n",
        "test_loader = DataLoader(test_dataset, batch_size=50)"
      ],
      "execution_count": null,
      "outputs": []
    },
    {
      "cell_type": "markdown",
      "metadata": {
        "id": "Q55Ms6H-jT60"
      },
      "source": [
        "## Network architecture"
      ]
    },
    {
      "cell_type": "code",
      "metadata": {
        "id": "MKtNSe7Ahvw4"
      },
      "source": [
        "class ConvNet(nn.Module):\n",
        "    def __init__(self):\n",
        "        super(ConvNet, self).__init__()\n",
        "        self.conv1 = nn.Conv2d(3,32, kernel_size=3, stride=1, padding=0)\n",
        "        self.bn1 = nn.BatchNorm2d(32)\n",
        "        self.conv2 = nn.Conv2d(32,64,kernel_size=3, stride=1, padding=0)\n",
        "        self.bn2 = nn.BatchNorm2d(64)\n",
        "        self.fc1 = nn.Linear(57604, 256)\n",
        "        self.fc2 = nn.Linear(256, 128)\n",
        "        self.fc3 = nn.Linear(128, 1)\n",
        "\n",
        "    def forward(self, x, x_text):\n",
        "        x = self.conv1(x)\n",
        "        x = self.bn1(x)\n",
        "        x = F.relu(x)\n",
        "        x = F.max_pool2d(x,2)\n",
        "        x = self.conv2(x)\n",
        "        x = self.bn2(x)\n",
        "        x = F.relu(x)\n",
        "        x = F.max_pool2d(x,2)\n",
        "\n",
        "        x = x.reshape(x.size(0), -1)   # флаттенинг\n",
        "        x = torch.cat([x, x_text], 1)  # соединяем фичи, полученные из картинок с табличными данными\n",
        "\n",
        "        x = self.fc1(x)\n",
        "        x = F.relu(x)\n",
        "        x = self.fc2(x)\n",
        "        x = F.relu(x)\n",
        "        output = self.fc3(x)\n",
        "\n",
        "        return output"
      ],
      "execution_count": null,
      "outputs": []
    },
    {
      "cell_type": "markdown",
      "metadata": {
        "id": "nFfZN8v7j30f"
      },
      "source": [
        "## Training and testing the model"
      ]
    },
    {
      "cell_type": "code",
      "metadata": {
        "id": "_-Mid7FSidPs"
      },
      "source": [
        "model = ConvNet()\n",
        "criterion = nn.MSELoss()\n",
        "\n",
        "num_epochs = 10\n",
        "learning_rate = 0.001\n",
        "\n",
        "optimizer = torch.optim.Adam(model.parameters(), lr=learning_rate)"
      ],
      "execution_count": null,
      "outputs": []
    },
    {
      "cell_type": "code",
      "metadata": {
        "colab": {
          "base_uri": "https://localhost:8080/",
          "height": 536
        },
        "id": "WWfKXG1cjdFK",
        "outputId": "0ab5b227-74c5-420a-8c71-b2832a26ae0d"
      },
      "source": [
        "for i, epoch in enumerate(range(num_epochs)):\n",
        "  epoch_r2_train = 0\n",
        "  for images, texts, labels in train_loader:\n",
        "    model.train()\n",
        "    # Прямой запуск\n",
        "    outputs = model(images, texts)\n",
        "    outputs = outputs.view(len(images),) \n",
        "    loss = criterion(outputs, labels)\n",
        "\n",
        "    # Обратное распространение и оптимизатор\n",
        "    optimizer.zero_grad()\n",
        "    loss.backward()\n",
        "    optimizer.step()\n",
        "\n",
        "    epoch_r2_train += r2_score(labels.detach().numpy(),outputs.detach().numpy())\n",
        "\n",
        "    model.eval()\n",
        "    all_outputs = torch.tensor([], dtype=torch.float32)\n",
        "    epoch_r2_test = 0\n",
        "\n",
        "    with torch.no_grad():\n",
        "      for images, texts, labels in test_loader:\n",
        "          outputs = model(images, texts)\n",
        "          outputs = outputs.view(len(images),) \n",
        "\n",
        "          epoch_r2_test += r2_score(labels.detach().numpy(),outputs.detach().numpy())\n",
        "\n",
        "  print(i, 'Train: ', epoch_r2_train / len(train_loader))\n",
        "  print(i, 'Test: ', epoch_r2_test / len(test_loader))"
      ],
      "execution_count": null,
      "outputs": [
        {
          "output_type": "stream",
          "text": [
            "0 Train:  0.22860807138424205\n",
            "0 Test:  -3.8846369839954438\n",
            "1 Train:  0.3146828078687277\n",
            "1 Test:  -1.1002203346189912\n",
            "2 Train:  0.4120233804262195\n",
            "2 Test:  -11.720888363271126\n",
            "3 Train:  0.4408086298055974\n",
            "3 Test:  -1.3914835184362184\n",
            "4 Train:  0.41674119333082316\n",
            "4 Test:  -5.842227129972728\n"
          ],
          "name": "stdout"
        },
        {
          "output_type": "error",
          "ename": "KeyboardInterrupt",
          "evalue": "ignored",
          "traceback": [
            "\u001b[0;31m---------------------------------------------------------------------------\u001b[0m",
            "\u001b[0;31mKeyboardInterrupt\u001b[0m                         Traceback (most recent call last)",
            "\u001b[0;32m<ipython-input-38-6659847f1fce>\u001b[0m in \u001b[0;36m<module>\u001b[0;34m()\u001b[0m\n\u001b[1;32m     21\u001b[0m     \u001b[0;32mwith\u001b[0m \u001b[0mtorch\u001b[0m\u001b[0;34m.\u001b[0m\u001b[0mno_grad\u001b[0m\u001b[0;34m(\u001b[0m\u001b[0;34m)\u001b[0m\u001b[0;34m:\u001b[0m\u001b[0;34m\u001b[0m\u001b[0;34m\u001b[0m\u001b[0m\n\u001b[1;32m     22\u001b[0m       \u001b[0;32mfor\u001b[0m \u001b[0mimages\u001b[0m\u001b[0;34m,\u001b[0m \u001b[0mtexts\u001b[0m\u001b[0;34m,\u001b[0m \u001b[0mlabels\u001b[0m \u001b[0;32min\u001b[0m \u001b[0mtest_loader\u001b[0m\u001b[0;34m:\u001b[0m\u001b[0;34m\u001b[0m\u001b[0;34m\u001b[0m\u001b[0m\n\u001b[0;32m---> 23\u001b[0;31m           \u001b[0moutputs\u001b[0m \u001b[0;34m=\u001b[0m \u001b[0mmodel\u001b[0m\u001b[0;34m(\u001b[0m\u001b[0mimages\u001b[0m\u001b[0;34m,\u001b[0m \u001b[0mtexts\u001b[0m\u001b[0;34m)\u001b[0m\u001b[0;34m\u001b[0m\u001b[0;34m\u001b[0m\u001b[0m\n\u001b[0m\u001b[1;32m     24\u001b[0m           \u001b[0moutputs\u001b[0m \u001b[0;34m=\u001b[0m \u001b[0moutputs\u001b[0m\u001b[0;34m.\u001b[0m\u001b[0mview\u001b[0m\u001b[0;34m(\u001b[0m\u001b[0mlen\u001b[0m\u001b[0;34m(\u001b[0m\u001b[0mimages\u001b[0m\u001b[0;34m)\u001b[0m\u001b[0;34m,\u001b[0m\u001b[0;34m)\u001b[0m\u001b[0;34m\u001b[0m\u001b[0;34m\u001b[0m\u001b[0m\n\u001b[1;32m     25\u001b[0m \u001b[0;34m\u001b[0m\u001b[0m\n",
            "\u001b[0;32m/usr/local/lib/python3.7/dist-packages/torch/nn/modules/module.py\u001b[0m in \u001b[0;36m_call_impl\u001b[0;34m(self, *input, **kwargs)\u001b[0m\n\u001b[1;32m    887\u001b[0m             \u001b[0mresult\u001b[0m \u001b[0;34m=\u001b[0m \u001b[0mself\u001b[0m\u001b[0;34m.\u001b[0m\u001b[0m_slow_forward\u001b[0m\u001b[0;34m(\u001b[0m\u001b[0;34m*\u001b[0m\u001b[0minput\u001b[0m\u001b[0;34m,\u001b[0m \u001b[0;34m**\u001b[0m\u001b[0mkwargs\u001b[0m\u001b[0;34m)\u001b[0m\u001b[0;34m\u001b[0m\u001b[0;34m\u001b[0m\u001b[0m\n\u001b[1;32m    888\u001b[0m         \u001b[0;32melse\u001b[0m\u001b[0;34m:\u001b[0m\u001b[0;34m\u001b[0m\u001b[0;34m\u001b[0m\u001b[0m\n\u001b[0;32m--> 889\u001b[0;31m             \u001b[0mresult\u001b[0m \u001b[0;34m=\u001b[0m \u001b[0mself\u001b[0m\u001b[0;34m.\u001b[0m\u001b[0mforward\u001b[0m\u001b[0;34m(\u001b[0m\u001b[0;34m*\u001b[0m\u001b[0minput\u001b[0m\u001b[0;34m,\u001b[0m \u001b[0;34m**\u001b[0m\u001b[0mkwargs\u001b[0m\u001b[0;34m)\u001b[0m\u001b[0;34m\u001b[0m\u001b[0;34m\u001b[0m\u001b[0m\n\u001b[0m\u001b[1;32m    890\u001b[0m         for hook in itertools.chain(\n\u001b[1;32m    891\u001b[0m                 \u001b[0m_global_forward_hooks\u001b[0m\u001b[0;34m.\u001b[0m\u001b[0mvalues\u001b[0m\u001b[0;34m(\u001b[0m\u001b[0;34m)\u001b[0m\u001b[0;34m,\u001b[0m\u001b[0;34m\u001b[0m\u001b[0;34m\u001b[0m\u001b[0m\n",
            "\u001b[0;32m<ipython-input-15-c88a9207c39b>\u001b[0m in \u001b[0;36mforward\u001b[0;34m(self, x, x_text)\u001b[0m\n\u001b[1;32m     23\u001b[0m         \u001b[0mx\u001b[0m \u001b[0;34m=\u001b[0m \u001b[0mtorch\u001b[0m\u001b[0;34m.\u001b[0m\u001b[0mcat\u001b[0m\u001b[0;34m(\u001b[0m\u001b[0;34m[\u001b[0m\u001b[0mx\u001b[0m\u001b[0;34m,\u001b[0m \u001b[0mx_text\u001b[0m\u001b[0;34m]\u001b[0m\u001b[0;34m,\u001b[0m \u001b[0;36m1\u001b[0m\u001b[0;34m)\u001b[0m\u001b[0;34m\u001b[0m\u001b[0;34m\u001b[0m\u001b[0m\n\u001b[1;32m     24\u001b[0m \u001b[0;34m\u001b[0m\u001b[0m\n\u001b[0;32m---> 25\u001b[0;31m         \u001b[0mx\u001b[0m \u001b[0;34m=\u001b[0m \u001b[0mself\u001b[0m\u001b[0;34m.\u001b[0m\u001b[0mfc1\u001b[0m\u001b[0;34m(\u001b[0m\u001b[0mx\u001b[0m\u001b[0;34m)\u001b[0m\u001b[0;34m\u001b[0m\u001b[0;34m\u001b[0m\u001b[0m\n\u001b[0m\u001b[1;32m     26\u001b[0m         \u001b[0mx\u001b[0m \u001b[0;34m=\u001b[0m \u001b[0mF\u001b[0m\u001b[0;34m.\u001b[0m\u001b[0mrelu\u001b[0m\u001b[0;34m(\u001b[0m\u001b[0mx\u001b[0m\u001b[0;34m)\u001b[0m\u001b[0;34m\u001b[0m\u001b[0;34m\u001b[0m\u001b[0m\n\u001b[1;32m     27\u001b[0m         \u001b[0mx\u001b[0m \u001b[0;34m=\u001b[0m \u001b[0mself\u001b[0m\u001b[0;34m.\u001b[0m\u001b[0mfc2\u001b[0m\u001b[0;34m(\u001b[0m\u001b[0mx\u001b[0m\u001b[0;34m)\u001b[0m\u001b[0;34m\u001b[0m\u001b[0;34m\u001b[0m\u001b[0m\n",
            "\u001b[0;32m/usr/local/lib/python3.7/dist-packages/torch/nn/modules/module.py\u001b[0m in \u001b[0;36m_call_impl\u001b[0;34m(self, *input, **kwargs)\u001b[0m\n\u001b[1;32m    887\u001b[0m             \u001b[0mresult\u001b[0m \u001b[0;34m=\u001b[0m \u001b[0mself\u001b[0m\u001b[0;34m.\u001b[0m\u001b[0m_slow_forward\u001b[0m\u001b[0;34m(\u001b[0m\u001b[0;34m*\u001b[0m\u001b[0minput\u001b[0m\u001b[0;34m,\u001b[0m \u001b[0;34m**\u001b[0m\u001b[0mkwargs\u001b[0m\u001b[0;34m)\u001b[0m\u001b[0;34m\u001b[0m\u001b[0;34m\u001b[0m\u001b[0m\n\u001b[1;32m    888\u001b[0m         \u001b[0;32melse\u001b[0m\u001b[0;34m:\u001b[0m\u001b[0;34m\u001b[0m\u001b[0;34m\u001b[0m\u001b[0m\n\u001b[0;32m--> 889\u001b[0;31m             \u001b[0mresult\u001b[0m \u001b[0;34m=\u001b[0m \u001b[0mself\u001b[0m\u001b[0;34m.\u001b[0m\u001b[0mforward\u001b[0m\u001b[0;34m(\u001b[0m\u001b[0;34m*\u001b[0m\u001b[0minput\u001b[0m\u001b[0;34m,\u001b[0m \u001b[0;34m**\u001b[0m\u001b[0mkwargs\u001b[0m\u001b[0;34m)\u001b[0m\u001b[0;34m\u001b[0m\u001b[0;34m\u001b[0m\u001b[0m\n\u001b[0m\u001b[1;32m    890\u001b[0m         for hook in itertools.chain(\n\u001b[1;32m    891\u001b[0m                 \u001b[0m_global_forward_hooks\u001b[0m\u001b[0;34m.\u001b[0m\u001b[0mvalues\u001b[0m\u001b[0;34m(\u001b[0m\u001b[0;34m)\u001b[0m\u001b[0;34m,\u001b[0m\u001b[0;34m\u001b[0m\u001b[0;34m\u001b[0m\u001b[0m\n",
            "\u001b[0;32m/usr/local/lib/python3.7/dist-packages/torch/nn/modules/linear.py\u001b[0m in \u001b[0;36mforward\u001b[0;34m(self, input)\u001b[0m\n\u001b[1;32m     92\u001b[0m \u001b[0;34m\u001b[0m\u001b[0m\n\u001b[1;32m     93\u001b[0m     \u001b[0;32mdef\u001b[0m \u001b[0mforward\u001b[0m\u001b[0;34m(\u001b[0m\u001b[0mself\u001b[0m\u001b[0;34m,\u001b[0m \u001b[0minput\u001b[0m\u001b[0;34m:\u001b[0m \u001b[0mTensor\u001b[0m\u001b[0;34m)\u001b[0m \u001b[0;34m->\u001b[0m \u001b[0mTensor\u001b[0m\u001b[0;34m:\u001b[0m\u001b[0;34m\u001b[0m\u001b[0;34m\u001b[0m\u001b[0m\n\u001b[0;32m---> 94\u001b[0;31m         \u001b[0;32mreturn\u001b[0m \u001b[0mF\u001b[0m\u001b[0;34m.\u001b[0m\u001b[0mlinear\u001b[0m\u001b[0;34m(\u001b[0m\u001b[0minput\u001b[0m\u001b[0;34m,\u001b[0m \u001b[0mself\u001b[0m\u001b[0;34m.\u001b[0m\u001b[0mweight\u001b[0m\u001b[0;34m,\u001b[0m \u001b[0mself\u001b[0m\u001b[0;34m.\u001b[0m\u001b[0mbias\u001b[0m\u001b[0;34m)\u001b[0m\u001b[0;34m\u001b[0m\u001b[0;34m\u001b[0m\u001b[0m\n\u001b[0m\u001b[1;32m     95\u001b[0m \u001b[0;34m\u001b[0m\u001b[0m\n\u001b[1;32m     96\u001b[0m     \u001b[0;32mdef\u001b[0m \u001b[0mextra_repr\u001b[0m\u001b[0;34m(\u001b[0m\u001b[0mself\u001b[0m\u001b[0;34m)\u001b[0m \u001b[0;34m->\u001b[0m \u001b[0mstr\u001b[0m\u001b[0;34m:\u001b[0m\u001b[0;34m\u001b[0m\u001b[0;34m\u001b[0m\u001b[0m\n",
            "\u001b[0;32m/usr/local/lib/python3.7/dist-packages/torch/nn/functional.py\u001b[0m in \u001b[0;36mlinear\u001b[0;34m(input, weight, bias)\u001b[0m\n\u001b[1;32m   1751\u001b[0m     \u001b[0;32mif\u001b[0m \u001b[0mhas_torch_function_variadic\u001b[0m\u001b[0;34m(\u001b[0m\u001b[0minput\u001b[0m\u001b[0;34m,\u001b[0m \u001b[0mweight\u001b[0m\u001b[0;34m)\u001b[0m\u001b[0;34m:\u001b[0m\u001b[0;34m\u001b[0m\u001b[0;34m\u001b[0m\u001b[0m\n\u001b[1;32m   1752\u001b[0m         \u001b[0;32mreturn\u001b[0m \u001b[0mhandle_torch_function\u001b[0m\u001b[0;34m(\u001b[0m\u001b[0mlinear\u001b[0m\u001b[0;34m,\u001b[0m \u001b[0;34m(\u001b[0m\u001b[0minput\u001b[0m\u001b[0;34m,\u001b[0m \u001b[0mweight\u001b[0m\u001b[0;34m)\u001b[0m\u001b[0;34m,\u001b[0m \u001b[0minput\u001b[0m\u001b[0;34m,\u001b[0m \u001b[0mweight\u001b[0m\u001b[0;34m,\u001b[0m \u001b[0mbias\u001b[0m\u001b[0;34m=\u001b[0m\u001b[0mbias\u001b[0m\u001b[0;34m)\u001b[0m\u001b[0;34m\u001b[0m\u001b[0;34m\u001b[0m\u001b[0m\n\u001b[0;32m-> 1753\u001b[0;31m     \u001b[0;32mreturn\u001b[0m \u001b[0mtorch\u001b[0m\u001b[0;34m.\u001b[0m\u001b[0m_C\u001b[0m\u001b[0;34m.\u001b[0m\u001b[0m_nn\u001b[0m\u001b[0;34m.\u001b[0m\u001b[0mlinear\u001b[0m\u001b[0;34m(\u001b[0m\u001b[0minput\u001b[0m\u001b[0;34m,\u001b[0m \u001b[0mweight\u001b[0m\u001b[0;34m,\u001b[0m \u001b[0mbias\u001b[0m\u001b[0;34m)\u001b[0m\u001b[0;34m\u001b[0m\u001b[0;34m\u001b[0m\u001b[0m\n\u001b[0m\u001b[1;32m   1754\u001b[0m \u001b[0;34m\u001b[0m\u001b[0m\n\u001b[1;32m   1755\u001b[0m \u001b[0;34m\u001b[0m\u001b[0m\n",
            "\u001b[0;31mKeyboardInterrupt\u001b[0m: "
          ]
        }
      ]
    },
    {
      "cell_type": "code",
      "metadata": {
        "id": "U9DUtNI3O5ZQ",
        "colab": {
          "base_uri": "https://localhost:8080/"
        },
        "outputId": "74c25903-564e-43fc-ebe7-d16bf85262f3"
      },
      "source": [
        "#torch.save(model.state_dict(), 'model.pth')\n",
        "model.load_state_dict(torch.load('model.pth'))"
      ],
      "execution_count": null,
      "outputs": [
        {
          "output_type": "execute_result",
          "data": {
            "text/plain": [
              "<All keys matched successfully>"
            ]
          },
          "metadata": {
            "tags": []
          },
          "execution_count": 18
        }
      ]
    },
    {
      "cell_type": "code",
      "metadata": {
        "colab": {
          "base_uri": "https://localhost:8080/"
        },
        "id": "SwJGMgHq0MRQ",
        "outputId": "f23729ca-16fb-4c9c-8402-de33b502be32"
      },
      "source": [
        "model.eval()\n",
        "all_outputs = torch.tensor([], dtype=torch.float32)\n",
        "epoch_r2 = 0\n",
        "\n",
        "with torch.no_grad():\n",
        "    for images, texts, labels in test_loader:\n",
        "        outputs = model(images, texts)\n",
        "        outputs = outputs.view(len(images),) \n",
        "\n",
        "        all_outputs = torch.cat((all_outputs, outputs))\n",
        "        epoch_r2 += r2_score(labels.detach().numpy(),outputs.detach().numpy())\n",
        "\n",
        "print(epoch_r2 / len(test_loader))"
      ],
      "execution_count": null,
      "outputs": [
        {
          "output_type": "stream",
          "text": [
            "-3.5618230505436093\n"
          ],
          "name": "stdout"
        }
      ]
    },
    {
      "cell_type": "code",
      "metadata": {
        "id": "wSAPAdGu_AGX"
      },
      "source": [
        ""
      ],
      "execution_count": null,
      "outputs": []
    },
    {
      "cell_type": "markdown",
      "metadata": {
        "id": "JfH71ny3kVDD"
      },
      "source": [
        "# Model 2 (Transfer learning)"
      ]
    },
    {
      "cell_type": "markdown",
      "metadata": {
        "id": "NoCmIXdr3s2P"
      },
      "source": [
        "## Update Dataset and Dataloader"
      ]
    },
    {
      "cell_type": "code",
      "metadata": {
        "id": "4fXvUjsS086O"
      },
      "source": [
        "def load_segm_frontal(inputPath):\n",
        "  # initialize our images array (i.e., the house images themselves)\n",
        "  images = []\n",
        "\n",
        "  # loop over the indexes of the houses\n",
        "  for i in tqdm(range(535)):\n",
        "    basePath = os.path.sep.join([inputPath, \"{}_f*\".format((i + 1))])\n",
        "    housePaths = sorted(list(glob.glob(basePath)))\n",
        "\n",
        "    # loop over the input house paths\n",
        "    for housePath in housePaths:\n",
        "      image = cv2.imread(housePath)\n",
        "      image = cv2.cvtColor(image, cv2.COLOR_BGR2RGB)\n",
        "      image = cv2.resize(image, (256, 256))\n",
        "      image = image / 255.0\n",
        "      image = image.astype('float32')\n",
        "      images.append(image)\n",
        "      \n",
        "\n",
        "  return np.array(images)"
      ],
      "execution_count": null,
      "outputs": []
    },
    {
      "cell_type": "code",
      "metadata": {
        "colab": {
          "base_uri": "https://localhost:8080/",
          "height": 66,
          "referenced_widgets": [
            "cecfde6263054f18a51c88bf556a5a84",
            "3f66e6f1caee4499b49f96225d550b7d",
            "d2a3884df4dc4e0897ac78f456c2b798",
            "572b65cd81424b8c8281f9c422a1f605",
            "f1b4d29e08ef42d498c8d7520770494a",
            "7edcee3b1042437aa65089266208f7d7",
            "a2965ac7e7dc44df8074017658c67e21",
            "1b92e145aae5409598e64102d14a775d"
          ]
        },
        "id": "v-3fXAsU2lPh",
        "outputId": "e237f8f5-0e2a-4243-cf5f-b69b7112bafd"
      },
      "source": [
        "images_frontal = load_segm_frontal(\"Frontals_segmented/\")"
      ],
      "execution_count": null,
      "outputs": [
        {
          "output_type": "display_data",
          "data": {
            "application/vnd.jupyter.widget-view+json": {
              "model_id": "cecfde6263054f18a51c88bf556a5a84",
              "version_minor": 0,
              "version_major": 2
            },
            "text/plain": [
              "HBox(children=(FloatProgress(value=0.0, max=535.0), HTML(value='')))"
            ]
          },
          "metadata": {
            "tags": []
          }
        },
        {
          "output_type": "stream",
          "text": [
            "\n"
          ],
          "name": "stdout"
        }
      ]
    },
    {
      "cell_type": "code",
      "metadata": {
        "id": "WmQb1eqH25mE"
      },
      "source": [
        "# сохраняем картинки\n",
        "#with open('images_segm_frontal.pickle', 'wb') as f:\n",
        "#    pickle.dump(images_frontal, f)\n",
        "\n",
        "# загружаем картинки\n",
        "with open('images_segm_frontal.pickle', 'rb') as f:\n",
        "    images_frontal = pickle.load(f)"
      ],
      "execution_count": null,
      "outputs": []
    },
    {
      "cell_type": "code",
      "metadata": {
        "colab": {
          "base_uri": "https://localhost:8080/",
          "height": 286
        },
        "id": "UJvxmOPI3Mxh",
        "outputId": "a7ab6ece-4de1-4f60-ae54-4ee2096c4aac"
      },
      "source": [
        "plt.imshow(images_frontal[500])\n",
        "plt.show()\n",
        "\n",
        "images_frontal.shape"
      ],
      "execution_count": null,
      "outputs": [
        {
          "output_type": "display_data",
          "data": {
            "image/png": "[encoded data removed]",
            "text/plain": [
              "<Figure size 432x288 with 1 Axes>"
            ]
          },
          "metadata": {
            "tags": [],
            "needs_background": "light"
          }
        },
        {
          "output_type": "execute_result",
          "data": {
            "text/plain": [
              "(535, 256, 256, 3)"
            ]
          },
          "metadata": {
            "tags": []
          },
          "execution_count": 9
        }
      ]
    },
    {
      "cell_type": "code",
      "metadata": {
        "id": "oCGDupOk9uWV"
      },
      "source": [
        "def inverce(images_frontal):\n",
        "  new_images = []\n",
        "  for img in images_frontal:\n",
        "    img = np.transpose(img, (2, 0, 1))\n",
        "    new_images.append(img)\n",
        "\n",
        "  return np.array(new_images)"
      ],
      "execution_count": null,
      "outputs": []
    },
    {
      "cell_type": "code",
      "metadata": {
        "colab": {
          "base_uri": "https://localhost:8080/"
        },
        "id": "nVDfkVDj-fS5",
        "outputId": "494a1486-c80d-4466-fac9-b36cc548d229"
      },
      "source": [
        "new_images = inverce(images_frontal)\n",
        "new_images.shape"
      ],
      "execution_count": null,
      "outputs": [
        {
          "output_type": "execute_result",
          "data": {
            "text/plain": [
              "(535, 3, 256, 256)"
            ]
          },
          "metadata": {
            "tags": []
          },
          "execution_count": 11
        }
      ]
    },
    {
      "cell_type": "code",
      "metadata": {
        "colab": {
          "base_uri": "https://localhost:8080/"
        },
        "id": "AcVBgpXS3W25",
        "outputId": "b71b5dd6-1458-4fee-a870-affd68c9b523"
      },
      "source": [
        "# converting training images into torch format\n",
        "images_frontal  = torch.from_numpy(new_images)\n",
        "\n",
        "# shape of training data\n",
        "images_frontal.shape"
      ],
      "execution_count": null,
      "outputs": [
        {
          "output_type": "execute_result",
          "data": {
            "text/plain": [
              "torch.Size([535, 3, 256, 256])"
            ]
          },
          "metadata": {
            "tags": []
          },
          "execution_count": 12
        }
      ]
    },
    {
      "cell_type": "code",
      "metadata": {
        "colab": {
          "base_uri": "https://localhost:8080/",
          "height": 269
        },
        "id": "sQF5g_CF7rPY",
        "outputId": "9af51c38-449b-4c45-e040-becdb1c66d5c"
      },
      "source": [
        "#look at single image\n",
        "plt.imshow(images_frontal[500].permute(1,2,0).numpy())\n",
        "plt.show()"
      ],
      "execution_count": null,
      "outputs": [
        {
          "output_type": "display_data",
          "data": {
            "image/png": "[encoded data removed]",
            "text/plain": [
              "<Figure size 432x288 with 1 Axes>"
            ]
          },
          "metadata": {
            "tags": [],
            "needs_background": "light"
          }
        }
      ]
    },
    {
      "cell_type": "code",
      "metadata": {
        "id": "QniI0pJ62DD6"
      },
      "source": [
        "# разобьем данные на train и test, чтобы можно было проверить качество модели\n",
        "from sklearn.model_selection import train_test_split\n",
        "\n",
        "images_frontal_train, images_frontal_test, x_text_train, x_text_test, y_train, y_test = train_test_split(images_frontal, x_text, \n",
        "                                                                              y, test_size=0.2, random_state=42)"
      ],
      "execution_count": null,
      "outputs": []
    },
    {
      "cell_type": "code",
      "metadata": {
        "id": "GuswmLV03etm"
      },
      "source": [
        "train_dataset = Images(images_frontal_train, x_text_train, y_train)\n",
        "test_dataset = Images(images_frontal_test, x_text_test, y_test)\n",
        "\n",
        "train_loader = DataLoader(train_dataset, batch_size=30, shuffle=True)\n",
        "test_loader = DataLoader(test_dataset, batch_size=30, shuffle=False)"
      ],
      "execution_count": null,
      "outputs": []
    },
    {
      "cell_type": "code",
      "metadata": {
        "id": "io6B-My03ezz"
      },
      "source": [
        ""
      ],
      "execution_count": null,
      "outputs": []
    },
    {
      "cell_type": "markdown",
      "metadata": {
        "id": "Vn3z3gcI3yzO"
      },
      "source": [
        "## Network architecture"
      ]
    },
    {
      "cell_type": "code",
      "metadata": {
        "id": "Z3mS-X-MkZuQ"
      },
      "source": [
        "from torchvision import models\n",
        "#dir(models)"
      ],
      "execution_count": null,
      "outputs": []
    },
    {
      "cell_type": "code",
      "metadata": {
        "colab": {
          "base_uri": "https://localhost:8080/",
          "height": 1000,
          "referenced_widgets": [
            "aefd3ad1085f4d419e38c49ab6776008",
            "d22b5ebc48da47e09f96b7ed5eee7a73",
            "54b596d7e5a34a4da8b22faabc933459",
            "c003156127d34e74ba03c41ef5fa9b2d",
            "42603b97796948539ed2b764aec25274",
            "7a23fe98ce80458eb4b35c986507f0a6",
            "d5a30c2b7037450d909a0c31249bdf1f",
            "d14d5981c50a475188559603dc0eafb0"
          ]
        },
        "id": "a7YLG5Lspc4B",
        "outputId": "b52ffc3b-8c5c-497a-a55e-0fdc8cb7980c"
      },
      "source": [
        "# Download the resnet-101 layers pre-trained model\n",
        "resnet = models.resnet101(pretrained=True)\n",
        "resnet"
      ],
      "execution_count": null,
      "outputs": [
        {
          "output_type": "stream",
          "text": [
            "Downloading: \"https://download.pytorch.org/models/resnet101-5d3b4d8f.pth\" to /root/.cache/torch/hub/checkpoints/resnet101-5d3b4d8f.pth\n"
          ],
          "name": "stderr"
        },
        {
          "output_type": "display_data",
          "data": {
            "application/vnd.jupyter.widget-view+json": {
              "model_id": "aefd3ad1085f4d419e38c49ab6776008",
              "version_minor": 0,
              "version_major": 2
            },
            "text/plain": [
              "HBox(children=(FloatProgress(value=0.0, max=178728960.0), HTML(value='')))"
            ]
          },
          "metadata": {
            "tags": []
          }
        },
        {
          "output_type": "stream",
          "text": [
            "\n"
          ],
          "name": "stdout"
        },
        {
          "output_type": "execute_result",
          "data": {
            "text/plain": [
              "ResNet(\n",
              "  (conv1): Conv2d(3, 64, kernel_size=(7, 7), stride=(2, 2), padding=(3, 3), bias=False)\n",
              "  (bn1): BatchNorm2d(64, eps=1e-05, momentum=0.1, affine=True, track_running_stats=True)\n",
              "  (relu): ReLU(inplace=True)\n",
              "  (maxpool): MaxPool2d(kernel_size=3, stride=2, padding=1, dilation=1, ceil_mode=False)\n",
              "  (layer1): Sequential(\n",
              "    (0): Bottleneck(\n",
              "      (conv1): Conv2d(64, 64, kernel_size=(1, 1), stride=(1, 1), bias=False)\n",
              "      (bn1): BatchNorm2d(64, eps=1e-05, momentum=0.1, affine=True, track_running_stats=True)\n",
              "      (conv2): Conv2d(64, 64, kernel_size=(3, 3), stride=(1, 1), padding=(1, 1), bias=False)\n",
              "      (bn2): BatchNorm2d(64, eps=1e-05, momentum=0.1, affine=True, track_running_stats=True)\n",
              "      (conv3): Conv2d(64, 256, kernel_size=(1, 1), stride=(1, 1), bias=False)\n",
              "      (bn3): BatchNorm2d(256, eps=1e-05, momentum=0.1, affine=True, track_running_stats=True)\n",
              "      (relu): ReLU(inplace=True)\n",
              "      (downsample): Sequential(\n",
              "        (0): Conv2d(64, 256, kernel_size=(1, 1), stride=(1, 1), bias=False)\n",
              "        (1): BatchNorm2d(256, eps=1e-05, momentum=0.1, affine=True, track_running_stats=True)\n",
              "      )\n",
              "    )\n",
              "    (1): Bottleneck(\n",
              "      (conv1): Conv2d(256, 64, kernel_size=(1, 1), stride=(1, 1), bias=False)\n",
              "      (bn1): BatchNorm2d(64, eps=1e-05, momentum=0.1, affine=True, track_running_stats=True)\n",
              "      (conv2): Conv2d(64, 64, kernel_size=(3, 3), stride=(1, 1), padding=(1, 1), bias=False)\n",
              "      (bn2): BatchNorm2d(64, eps=1e-05, momentum=0.1, affine=True, track_running_stats=True)\n",
              "      (conv3): Conv2d(64, 256, kernel_size=(1, 1), stride=(1, 1), bias=False)\n",
              "      (bn3): BatchNorm2d(256, eps=1e-05, momentum=0.1, affine=True, track_running_stats=True)\n",
              "      (relu): ReLU(inplace=True)\n",
              "    )\n",
              "    (2): Bottleneck(\n",
              "      (conv1): Conv2d(256, 64, kernel_size=(1, 1), stride=(1, 1), bias=False)\n",
              "      (bn1): BatchNorm2d(64, eps=1e-05, momentum=0.1, affine=True, track_running_stats=True)\n",
              "      (conv2): Conv2d(64, 64, kernel_size=(3, 3), stride=(1, 1), padding=(1, 1), bias=False)\n",
              "      (bn2): BatchNorm2d(64, eps=1e-05, momentum=0.1, affine=True, track_running_stats=True)\n",
              "      (conv3): Conv2d(64, 256, kernel_size=(1, 1), stride=(1, 1), bias=False)\n",
              "      (bn3): BatchNorm2d(256, eps=1e-05, momentum=0.1, affine=True, track_running_stats=True)\n",
              "      (relu): ReLU(inplace=True)\n",
              "    )\n",
              "  )\n",
              "  (layer2): Sequential(\n",
              "    (0): Bottleneck(\n",
              "      (conv1): Conv2d(256, 128, kernel_size=(1, 1), stride=(1, 1), bias=False)\n",
              "      (bn1): BatchNorm2d(128, eps=1e-05, momentum=0.1, affine=True, track_running_stats=True)\n",
              "      (conv2): Conv2d(128, 128, kernel_size=(3, 3), stride=(2, 2), padding=(1, 1), bias=False)\n",
              "      (bn2): BatchNorm2d(128, eps=1e-05, momentum=0.1, affine=True, track_running_stats=True)\n",
              "      (conv3): Conv2d(128, 512, kernel_size=(1, 1), stride=(1, 1), bias=False)\n",
              "      (bn3): BatchNorm2d(512, eps=1e-05, momentum=0.1, affine=True, track_running_stats=True)\n",
              "      (relu): ReLU(inplace=True)\n",
              "      (downsample): Sequential(\n",
              "        (0): Conv2d(256, 512, kernel_size=(1, 1), stride=(2, 2), bias=False)\n",
              "        (1): BatchNorm2d(512, eps=1e-05, momentum=0.1, affine=True, track_running_stats=True)\n",
              "      )\n",
              "    )\n",
              "    (1): Bottleneck(\n",
              "      (conv1): Conv2d(512, 128, kernel_size=(1, 1), stride=(1, 1), bias=False)\n",
              "      (bn1): BatchNorm2d(128, eps=1e-05, momentum=0.1, affine=True, track_running_stats=True)\n",
              "      (conv2): Conv2d(128, 128, kernel_size=(3, 3), stride=(1, 1), padding=(1, 1), bias=False)\n",
              "      (bn2): BatchNorm2d(128, eps=1e-05, momentum=0.1, affine=True, track_running_stats=True)\n",
              "      (conv3): Conv2d(128, 512, kernel_size=(1, 1), stride=(1, 1), bias=False)\n",
              "      (bn3): BatchNorm2d(512, eps=1e-05, momentum=0.1, affine=True, track_running_stats=True)\n",
              "      (relu): ReLU(inplace=True)\n",
              "    )\n",
              "    (2): Bottleneck(\n",
              "      (conv1): Conv2d(512, 128, kernel_size=(1, 1), stride=(1, 1), bias=False)\n",
              "      (bn1): BatchNorm2d(128, eps=1e-05, momentum=0.1, affine=True, track_running_stats=True)\n",
              "      (conv2): Conv2d(128, 128, kernel_size=(3, 3), stride=(1, 1), padding=(1, 1), bias=False)\n",
              "      (bn2): BatchNorm2d(128, eps=1e-05, momentum=0.1, affine=True, track_running_stats=True)\n",
              "      (conv3): Conv2d(128, 512, kernel_size=(1, 1), stride=(1, 1), bias=False)\n",
              "      (bn3): BatchNorm2d(512, eps=1e-05, momentum=0.1, affine=True, track_running_stats=True)\n",
              "      (relu): ReLU(inplace=True)\n",
              "    )\n",
              "    (3): Bottleneck(\n",
              "      (conv1): Conv2d(512, 128, kernel_size=(1, 1), stride=(1, 1), bias=False)\n",
              "      (bn1): BatchNorm2d(128, eps=1e-05, momentum=0.1, affine=True, track_running_stats=True)\n",
              "      (conv2): Conv2d(128, 128, kernel_size=(3, 3), stride=(1, 1), padding=(1, 1), bias=False)\n",
              "      (bn2): BatchNorm2d(128, eps=1e-05, momentum=0.1, affine=True, track_running_stats=True)\n",
              "      (conv3): Conv2d(128, 512, kernel_size=(1, 1), stride=(1, 1), bias=False)\n",
              "      (bn3): BatchNorm2d(512, eps=1e-05, momentum=0.1, affine=True, track_running_stats=True)\n",
              "      (relu): ReLU(inplace=True)\n",
              "    )\n",
              "  )\n",
              "  (layer3): Sequential(\n",
              "    (0): Bottleneck(\n",
              "      (conv1): Conv2d(512, 256, kernel_size=(1, 1), stride=(1, 1), bias=False)\n",
              "      (bn1): BatchNorm2d(256, eps=1e-05, momentum=0.1, affine=True, track_running_stats=True)\n",
              "      (conv2): Conv2d(256, 256, kernel_size=(3, 3), stride=(2, 2), padding=(1, 1), bias=False)\n",
              "      (bn2): BatchNorm2d(256, eps=1e-05, momentum=0.1, affine=True, track_running_stats=True)\n",
              "      (conv3): Conv2d(256, 1024, kernel_size=(1, 1), stride=(1, 1), bias=False)\n",
              "      (bn3): BatchNorm2d(1024, eps=1e-05, momentum=0.1, affine=True, track_running_stats=True)\n",
              "      (relu): ReLU(inplace=True)\n",
              "      (downsample): Sequential(\n",
              "        (0): Conv2d(512, 1024, kernel_size=(1, 1), stride=(2, 2), bias=False)\n",
              "        (1): BatchNorm2d(1024, eps=1e-05, momentum=0.1, affine=True, track_running_stats=True)\n",
              "      )\n",
              "    )\n",
              "    (1): Bottleneck(\n",
              "      (conv1): Conv2d(1024, 256, kernel_size=(1, 1), stride=(1, 1), bias=False)\n",
              "      (bn1): BatchNorm2d(256, eps=1e-05, momentum=0.1, affine=True, track_running_stats=True)\n",
              "      (conv2): Conv2d(256, 256, kernel_size=(3, 3), stride=(1, 1), padding=(1, 1), bias=False)\n",
              "      (bn2): BatchNorm2d(256, eps=1e-05, momentum=0.1, affine=True, track_running_stats=True)\n",
              "      (conv3): Conv2d(256, 1024, kernel_size=(1, 1), stride=(1, 1), bias=False)\n",
              "      (bn3): BatchNorm2d(1024, eps=1e-05, momentum=0.1, affine=True, track_running_stats=True)\n",
              "      (relu): ReLU(inplace=True)\n",
              "    )\n",
              "    (2): Bottleneck(\n",
              "      (conv1): Conv2d(1024, 256, kernel_size=(1, 1), stride=(1, 1), bias=False)\n",
              "      (bn1): BatchNorm2d(256, eps=1e-05, momentum=0.1, affine=True, track_running_stats=True)\n",
              "      (conv2): Conv2d(256, 256, kernel_size=(3, 3), stride=(1, 1), padding=(1, 1), bias=False)\n",
              "      (bn2): BatchNorm2d(256, eps=1e-05, momentum=0.1, affine=True, track_running_stats=True)\n",
              "      (conv3): Conv2d(256, 1024, kernel_size=(1, 1), stride=(1, 1), bias=False)\n",
              "      (bn3): BatchNorm2d(1024, eps=1e-05, momentum=0.1, affine=True, track_running_stats=True)\n",
              "      (relu): ReLU(inplace=True)\n",
              "    )\n",
              "    (3): Bottleneck(\n",
              "      (conv1): Conv2d(1024, 256, kernel_size=(1, 1), stride=(1, 1), bias=False)\n",
              "      (bn1): BatchNorm2d(256, eps=1e-05, momentum=0.1, affine=True, track_running_stats=True)\n",
              "      (conv2): Conv2d(256, 256, kernel_size=(3, 3), stride=(1, 1), padding=(1, 1), bias=False)\n",
              "      (bn2): BatchNorm2d(256, eps=1e-05, momentum=0.1, affine=True, track_running_stats=True)\n",
              "      (conv3): Conv2d(256, 1024, kernel_size=(1, 1), stride=(1, 1), bias=False)\n",
              "      (bn3): BatchNorm2d(1024, eps=1e-05, momentum=0.1, affine=True, track_running_stats=True)\n",
              "      (relu): ReLU(inplace=True)\n",
              "    )\n",
              "    (4): Bottleneck(\n",
              "      (conv1): Conv2d(1024, 256, kernel_size=(1, 1), stride=(1, 1), bias=False)\n",
              "      (bn1): BatchNorm2d(256, eps=1e-05, momentum=0.1, affine=True, track_running_stats=True)\n",
              "      (conv2): Conv2d(256, 256, kernel_size=(3, 3), stride=(1, 1), padding=(1, 1), bias=False)\n",
              "      (bn2): BatchNorm2d(256, eps=1e-05, momentum=0.1, affine=True, track_running_stats=True)\n",
              "      (conv3): Conv2d(256, 1024, kernel_size=(1, 1), stride=(1, 1), bias=False)\n",
              "      (bn3): BatchNorm2d(1024, eps=1e-05, momentum=0.1, affine=True, track_running_stats=True)\n",
              "      (relu): ReLU(inplace=True)\n",
              "    )\n",
              "    (5): Bottleneck(\n",
              "      (conv1): Conv2d(1024, 256, kernel_size=(1, 1), stride=(1, 1), bias=False)\n",
              "      (bn1): BatchNorm2d(256, eps=1e-05, momentum=0.1, affine=True, track_running_stats=True)\n",
              "      (conv2): Conv2d(256, 256, kernel_size=(3, 3), stride=(1, 1), padding=(1, 1), bias=False)\n",
              "      (bn2): BatchNorm2d(256, eps=1e-05, momentum=0.1, affine=True, track_running_stats=True)\n",
              "      (conv3): Conv2d(256, 1024, kernel_size=(1, 1), stride=(1, 1), bias=False)\n",
              "      (bn3): BatchNorm2d(1024, eps=1e-05, momentum=0.1, affine=True, track_running_stats=True)\n",
              "      (relu): ReLU(inplace=True)\n",
              "    )\n",
              "    (6): Bottleneck(\n",
              "      (conv1): Conv2d(1024, 256, kernel_size=(1, 1), stride=(1, 1), bias=False)\n",
              "      (bn1): BatchNorm2d(256, eps=1e-05, momentum=0.1, affine=True, track_running_stats=True)\n",
              "      (conv2): Conv2d(256, 256, kernel_size=(3, 3), stride=(1, 1), padding=(1, 1), bias=False)\n",
              "      (bn2): BatchNorm2d(256, eps=1e-05, momentum=0.1, affine=True, track_running_stats=True)\n",
              "      (conv3): Conv2d(256, 1024, kernel_size=(1, 1), stride=(1, 1), bias=False)\n",
              "      (bn3): BatchNorm2d(1024, eps=1e-05, momentum=0.1, affine=True, track_running_stats=True)\n",
              "      (relu): ReLU(inplace=True)\n",
              "    )\n",
              "    (7): Bottleneck(\n",
              "      (conv1): Conv2d(1024, 256, kernel_size=(1, 1), stride=(1, 1), bias=False)\n",
              "      (bn1): BatchNorm2d(256, eps=1e-05, momentum=0.1, affine=True, track_running_stats=True)\n",
              "      (conv2): Conv2d(256, 256, kernel_size=(3, 3), stride=(1, 1), padding=(1, 1), bias=False)\n",
              "      (bn2): BatchNorm2d(256, eps=1e-05, momentum=0.1, affine=True, track_running_stats=True)\n",
              "      (conv3): Conv2d(256, 1024, kernel_size=(1, 1), stride=(1, 1), bias=False)\n",
              "      (bn3): BatchNorm2d(1024, eps=1e-05, momentum=0.1, affine=True, track_running_stats=True)\n",
              "      (relu): ReLU(inplace=True)\n",
              "    )\n",
              "    (8): Bottleneck(\n",
              "      (conv1): Conv2d(1024, 256, kernel_size=(1, 1), stride=(1, 1), bias=False)\n",
              "      (bn1): BatchNorm2d(256, eps=1e-05, momentum=0.1, affine=True, track_running_stats=True)\n",
              "      (conv2): Conv2d(256, 256, kernel_size=(3, 3), stride=(1, 1), padding=(1, 1), bias=False)\n",
              "      (bn2): BatchNorm2d(256, eps=1e-05, momentum=0.1, affine=True, track_running_stats=True)\n",
              "      (conv3): Conv2d(256, 1024, kernel_size=(1, 1), stride=(1, 1), bias=False)\n",
              "      (bn3): BatchNorm2d(1024, eps=1e-05, momentum=0.1, affine=True, track_running_stats=True)\n",
              "      (relu): ReLU(inplace=True)\n",
              "    )\n",
              "    (9): Bottleneck(\n",
              "      (conv1): Conv2d(1024, 256, kernel_size=(1, 1), stride=(1, 1), bias=False)\n",
              "      (bn1): BatchNorm2d(256, eps=1e-05, momentum=0.1, affine=True, track_running_stats=True)\n",
              "      (conv2): Conv2d(256, 256, kernel_size=(3, 3), stride=(1, 1), padding=(1, 1), bias=False)\n",
              "      (bn2): BatchNorm2d(256, eps=1e-05, momentum=0.1, affine=True, track_running_stats=True)\n",
              "      (conv3): Conv2d(256, 1024, kernel_size=(1, 1), stride=(1, 1), bias=False)\n",
              "      (bn3): BatchNorm2d(1024, eps=1e-05, momentum=0.1, affine=True, track_running_stats=True)\n",
              "      (relu): ReLU(inplace=True)\n",
              "    )\n",
              "    (10): Bottleneck(\n",
              "      (conv1): Conv2d(1024, 256, kernel_size=(1, 1), stride=(1, 1), bias=False)\n",
              "      (bn1): BatchNorm2d(256, eps=1e-05, momentum=0.1, affine=True, track_running_stats=True)\n",
              "      (conv2): Conv2d(256, 256, kernel_size=(3, 3), stride=(1, 1), padding=(1, 1), bias=False)\n",
              "      (bn2): BatchNorm2d(256, eps=1e-05, momentum=0.1, affine=True, track_running_stats=True)\n",
              "      (conv3): Conv2d(256, 1024, kernel_size=(1, 1), stride=(1, 1), bias=False)\n",
              "      (bn3): BatchNorm2d(1024, eps=1e-05, momentum=0.1, affine=True, track_running_stats=True)\n",
              "      (relu): ReLU(inplace=True)\n",
              "    )\n",
              "    (11): Bottleneck(\n",
              "      (conv1): Conv2d(1024, 256, kernel_size=(1, 1), stride=(1, 1), bias=False)\n",
              "      (bn1): BatchNorm2d(256, eps=1e-05, momentum=0.1, affine=True, track_running_stats=True)\n",
              "      (conv2): Conv2d(256, 256, kernel_size=(3, 3), stride=(1, 1), padding=(1, 1), bias=False)\n",
              "      (bn2): BatchNorm2d(256, eps=1e-05, momentum=0.1, affine=True, track_running_stats=True)\n",
              "      (conv3): Conv2d(256, 1024, kernel_size=(1, 1), stride=(1, 1), bias=False)\n",
              "      (bn3): BatchNorm2d(1024, eps=1e-05, momentum=0.1, affine=True, track_running_stats=True)\n",
              "      (relu): ReLU(inplace=True)\n",
              "    )\n",
              "    (12): Bottleneck(\n",
              "      (conv1): Conv2d(1024, 256, kernel_size=(1, 1), stride=(1, 1), bias=False)\n",
              "      (bn1): BatchNorm2d(256, eps=1e-05, momentum=0.1, affine=True, track_running_stats=True)\n",
              "      (conv2): Conv2d(256, 256, kernel_size=(3, 3), stride=(1, 1), padding=(1, 1), bias=False)\n",
              "      (bn2): BatchNorm2d(256, eps=1e-05, momentum=0.1, affine=True, track_running_stats=True)\n",
              "      (conv3): Conv2d(256, 1024, kernel_size=(1, 1), stride=(1, 1), bias=False)\n",
              "      (bn3): BatchNorm2d(1024, eps=1e-05, momentum=0.1, affine=True, track_running_stats=True)\n",
              "      (relu): ReLU(inplace=True)\n",
              "    )\n",
              "    (13): Bottleneck(\n",
              "      (conv1): Conv2d(1024, 256, kernel_size=(1, 1), stride=(1, 1), bias=False)\n",
              "      (bn1): BatchNorm2d(256, eps=1e-05, momentum=0.1, affine=True, track_running_stats=True)\n",
              "      (conv2): Conv2d(256, 256, kernel_size=(3, 3), stride=(1, 1), padding=(1, 1), bias=False)\n",
              "      (bn2): BatchNorm2d(256, eps=1e-05, momentum=0.1, affine=True, track_running_stats=True)\n",
              "      (conv3): Conv2d(256, 1024, kernel_size=(1, 1), stride=(1, 1), bias=False)\n",
              "      (bn3): BatchNorm2d(1024, eps=1e-05, momentum=0.1, affine=True, track_running_stats=True)\n",
              "      (relu): ReLU(inplace=True)\n",
              "    )\n",
              "    (14): Bottleneck(\n",
              "      (conv1): Conv2d(1024, 256, kernel_size=(1, 1), stride=(1, 1), bias=False)\n",
              "      (bn1): BatchNorm2d(256, eps=1e-05, momentum=0.1, affine=True, track_running_stats=True)\n",
              "      (conv2): Conv2d(256, 256, kernel_size=(3, 3), stride=(1, 1), padding=(1, 1), bias=False)\n",
              "      (bn2): BatchNorm2d(256, eps=1e-05, momentum=0.1, affine=True, track_running_stats=True)\n",
              "      (conv3): Conv2d(256, 1024, kernel_size=(1, 1), stride=(1, 1), bias=False)\n",
              "      (bn3): BatchNorm2d(1024, eps=1e-05, momentum=0.1, affine=True, track_running_stats=True)\n",
              "      (relu): ReLU(inplace=True)\n",
              "    )\n",
              "    (15): Bottleneck(\n",
              "      (conv1): Conv2d(1024, 256, kernel_size=(1, 1), stride=(1, 1), bias=False)\n",
              "      (bn1): BatchNorm2d(256, eps=1e-05, momentum=0.1, affine=True, track_running_stats=True)\n",
              "      (conv2): Conv2d(256, 256, kernel_size=(3, 3), stride=(1, 1), padding=(1, 1), bias=False)\n",
              "      (bn2): BatchNorm2d(256, eps=1e-05, momentum=0.1, affine=True, track_running_stats=True)\n",
              "      (conv3): Conv2d(256, 1024, kernel_size=(1, 1), stride=(1, 1), bias=False)\n",
              "      (bn3): BatchNorm2d(1024, eps=1e-05, momentum=0.1, affine=True, track_running_stats=True)\n",
              "      (relu): ReLU(inplace=True)\n",
              "    )\n",
              "    (16): Bottleneck(\n",
              "      (conv1): Conv2d(1024, 256, kernel_size=(1, 1), stride=(1, 1), bias=False)\n",
              "      (bn1): BatchNorm2d(256, eps=1e-05, momentum=0.1, affine=True, track_running_stats=True)\n",
              "      (conv2): Conv2d(256, 256, kernel_size=(3, 3), stride=(1, 1), padding=(1, 1), bias=False)\n",
              "      (bn2): BatchNorm2d(256, eps=1e-05, momentum=0.1, affine=True, track_running_stats=True)\n",
              "      (conv3): Conv2d(256, 1024, kernel_size=(1, 1), stride=(1, 1), bias=False)\n",
              "      (bn3): BatchNorm2d(1024, eps=1e-05, momentum=0.1, affine=True, track_running_stats=True)\n",
              "      (relu): ReLU(inplace=True)\n",
              "    )\n",
              "    (17): Bottleneck(\n",
              "      (conv1): Conv2d(1024, 256, kernel_size=(1, 1), stride=(1, 1), bias=False)\n",
              "      (bn1): BatchNorm2d(256, eps=1e-05, momentum=0.1, affine=True, track_running_stats=True)\n",
              "      (conv2): Conv2d(256, 256, kernel_size=(3, 3), stride=(1, 1), padding=(1, 1), bias=False)\n",
              "      (bn2): BatchNorm2d(256, eps=1e-05, momentum=0.1, affine=True, track_running_stats=True)\n",
              "      (conv3): Conv2d(256, 1024, kernel_size=(1, 1), stride=(1, 1), bias=False)\n",
              "      (bn3): BatchNorm2d(1024, eps=1e-05, momentum=0.1, affine=True, track_running_stats=True)\n",
              "      (relu): ReLU(inplace=True)\n",
              "    )\n",
              "    (18): Bottleneck(\n",
              "      (conv1): Conv2d(1024, 256, kernel_size=(1, 1), stride=(1, 1), bias=False)\n",
              "      (bn1): BatchNorm2d(256, eps=1e-05, momentum=0.1, affine=True, track_running_stats=True)\n",
              "      (conv2): Conv2d(256, 256, kernel_size=(3, 3), stride=(1, 1), padding=(1, 1), bias=False)\n",
              "      (bn2): BatchNorm2d(256, eps=1e-05, momentum=0.1, affine=True, track_running_stats=True)\n",
              "      (conv3): Conv2d(256, 1024, kernel_size=(1, 1), stride=(1, 1), bias=False)\n",
              "      (bn3): BatchNorm2d(1024, eps=1e-05, momentum=0.1, affine=True, track_running_stats=True)\n",
              "      (relu): ReLU(inplace=True)\n",
              "    )\n",
              "    (19): Bottleneck(\n",
              "      (conv1): Conv2d(1024, 256, kernel_size=(1, 1), stride=(1, 1), bias=False)\n",
              "      (bn1): BatchNorm2d(256, eps=1e-05, momentum=0.1, affine=True, track_running_stats=True)\n",
              "      (conv2): Conv2d(256, 256, kernel_size=(3, 3), stride=(1, 1), padding=(1, 1), bias=False)\n",
              "      (bn2): BatchNorm2d(256, eps=1e-05, momentum=0.1, affine=True, track_running_stats=True)\n",
              "      (conv3): Conv2d(256, 1024, kernel_size=(1, 1), stride=(1, 1), bias=False)\n",
              "      (bn3): BatchNorm2d(1024, eps=1e-05, momentum=0.1, affine=True, track_running_stats=True)\n",
              "      (relu): ReLU(inplace=True)\n",
              "    )\n",
              "    (20): Bottleneck(\n",
              "      (conv1): Conv2d(1024, 256, kernel_size=(1, 1), stride=(1, 1), bias=False)\n",
              "      (bn1): BatchNorm2d(256, eps=1e-05, momentum=0.1, affine=True, track_running_stats=True)\n",
              "      (conv2): Conv2d(256, 256, kernel_size=(3, 3), stride=(1, 1), padding=(1, 1), bias=False)\n",
              "      (bn2): BatchNorm2d(256, eps=1e-05, momentum=0.1, affine=True, track_running_stats=True)\n",
              "      (conv3): Conv2d(256, 1024, kernel_size=(1, 1), stride=(1, 1), bias=False)\n",
              "      (bn3): BatchNorm2d(1024, eps=1e-05, momentum=0.1, affine=True, track_running_stats=True)\n",
              "      (relu): ReLU(inplace=True)\n",
              "    )\n",
              "    (21): Bottleneck(\n",
              "      (conv1): Conv2d(1024, 256, kernel_size=(1, 1), stride=(1, 1), bias=False)\n",
              "      (bn1): BatchNorm2d(256, eps=1e-05, momentum=0.1, affine=True, track_running_stats=True)\n",
              "      (conv2): Conv2d(256, 256, kernel_size=(3, 3), stride=(1, 1), padding=(1, 1), bias=False)\n",
              "      (bn2): BatchNorm2d(256, eps=1e-05, momentum=0.1, affine=True, track_running_stats=True)\n",
              "      (conv3): Conv2d(256, 1024, kernel_size=(1, 1), stride=(1, 1), bias=False)\n",
              "      (bn3): BatchNorm2d(1024, eps=1e-05, momentum=0.1, affine=True, track_running_stats=True)\n",
              "      (relu): ReLU(inplace=True)\n",
              "    )\n",
              "    (22): Bottleneck(\n",
              "      (conv1): Conv2d(1024, 256, kernel_size=(1, 1), stride=(1, 1), bias=False)\n",
              "      (bn1): BatchNorm2d(256, eps=1e-05, momentum=0.1, affine=True, track_running_stats=True)\n",
              "      (conv2): Conv2d(256, 256, kernel_size=(3, 3), stride=(1, 1), padding=(1, 1), bias=False)\n",
              "      (bn2): BatchNorm2d(256, eps=1e-05, momentum=0.1, affine=True, track_running_stats=True)\n",
              "      (conv3): Conv2d(256, 1024, kernel_size=(1, 1), stride=(1, 1), bias=False)\n",
              "      (bn3): BatchNorm2d(1024, eps=1e-05, momentum=0.1, affine=True, track_running_stats=True)\n",
              "      (relu): ReLU(inplace=True)\n",
              "    )\n",
              "  )\n",
              "  (layer4): Sequential(\n",
              "    (0): Bottleneck(\n",
              "      (conv1): Conv2d(1024, 512, kernel_size=(1, 1), stride=(1, 1), bias=False)\n",
              "      (bn1): BatchNorm2d(512, eps=1e-05, momentum=0.1, affine=True, track_running_stats=True)\n",
              "      (conv2): Conv2d(512, 512, kernel_size=(3, 3), stride=(2, 2), padding=(1, 1), bias=False)\n",
              "      (bn2): BatchNorm2d(512, eps=1e-05, momentum=0.1, affine=True, track_running_stats=True)\n",
              "      (conv3): Conv2d(512, 2048, kernel_size=(1, 1), stride=(1, 1), bias=False)\n",
              "      (bn3): BatchNorm2d(2048, eps=1e-05, momentum=0.1, affine=True, track_running_stats=True)\n",
              "      (relu): ReLU(inplace=True)\n",
              "      (downsample): Sequential(\n",
              "        (0): Conv2d(1024, 2048, kernel_size=(1, 1), stride=(2, 2), bias=False)\n",
              "        (1): BatchNorm2d(2048, eps=1e-05, momentum=0.1, affine=True, track_running_stats=True)\n",
              "      )\n",
              "    )\n",
              "    (1): Bottleneck(\n",
              "      (conv1): Conv2d(2048, 512, kernel_size=(1, 1), stride=(1, 1), bias=False)\n",
              "      (bn1): BatchNorm2d(512, eps=1e-05, momentum=0.1, affine=True, track_running_stats=True)\n",
              "      (conv2): Conv2d(512, 512, kernel_size=(3, 3), stride=(1, 1), padding=(1, 1), bias=False)\n",
              "      (bn2): BatchNorm2d(512, eps=1e-05, momentum=0.1, affine=True, track_running_stats=True)\n",
              "      (conv3): Conv2d(512, 2048, kernel_size=(1, 1), stride=(1, 1), bias=False)\n",
              "      (bn3): BatchNorm2d(2048, eps=1e-05, momentum=0.1, affine=True, track_running_stats=True)\n",
              "      (relu): ReLU(inplace=True)\n",
              "    )\n",
              "    (2): Bottleneck(\n",
              "      (conv1): Conv2d(2048, 512, kernel_size=(1, 1), stride=(1, 1), bias=False)\n",
              "      (bn1): BatchNorm2d(512, eps=1e-05, momentum=0.1, affine=True, track_running_stats=True)\n",
              "      (conv2): Conv2d(512, 512, kernel_size=(3, 3), stride=(1, 1), padding=(1, 1), bias=False)\n",
              "      (bn2): BatchNorm2d(512, eps=1e-05, momentum=0.1, affine=True, track_running_stats=True)\n",
              "      (conv3): Conv2d(512, 2048, kernel_size=(1, 1), stride=(1, 1), bias=False)\n",
              "      (bn3): BatchNorm2d(2048, eps=1e-05, momentum=0.1, affine=True, track_running_stats=True)\n",
              "      (relu): ReLU(inplace=True)\n",
              "    )\n",
              "  )\n",
              "  (avgpool): AdaptiveAvgPool2d(output_size=(1, 1))\n",
              "  (fc): Linear(in_features=2048, out_features=1000, bias=True)\n",
              ")"
            ]
          },
          "metadata": {
            "tags": []
          },
          "execution_count": 17
        }
      ]
    },
    {
      "cell_type": "code",
      "metadata": {
        "id": "pNyP1w81xaDU"
      },
      "source": [
        "#resnet.fc = nn.Linear(2048, 8)"
      ],
      "execution_count": null,
      "outputs": []
    },
    {
      "cell_type": "code",
      "metadata": {
        "id": "uV6K30A-i9wb"
      },
      "source": [
        "# замораживаем первые 8 слоев:\n",
        "ct = 0\n",
        "for child in resnet.children():\n",
        "  ct += 1\n",
        "  if ct < 8:\n",
        "    for param in child.parameters():\n",
        "      param.requires_grad = False"
      ],
      "execution_count": null,
      "outputs": []
    },
    {
      "cell_type": "code",
      "metadata": {
        "id": "sqoOoYXWqhMr"
      },
      "source": [
        "class NN(nn.Module):\n",
        "    def __init__(self, resnet_pretrained):\n",
        "        super().__init__()\n",
        "        self.resnet_pretrained = resnet_pretrained\n",
        "        self.fc1 = nn.Linear(1000, 256)\n",
        "        self.drop_layer1 = nn.Dropout(0.5)\n",
        "        self.fc2 = nn.Linear(256, 8)\n",
        "        self.drop_layer2 = nn.Dropout(0.25)\n",
        "        self.fc3 = nn.Linear(14, 1)\n",
        "        \n",
        "    def forward(self, x, x_text):\n",
        "        x = F.relu(self.resnet_pretrained(x))\n",
        "        x = self.drop_layer1(F.relu(self.fc1(x)))\n",
        "        x_img = self.drop_layer2(F.relu(self.fc2(x)))\n",
        "        \n",
        "        x = torch.cat([x_img, x_text], 1)  # соединяем фичи, полученные из картинок с табличными данными\n",
        "        output = self.fc3(x)\n",
        "\n",
        "        return x_img, output"
      ],
      "execution_count": null,
      "outputs": []
    },
    {
      "cell_type": "markdown",
      "metadata": {
        "id": "09bMd_UxrVW3"
      },
      "source": [
        "## Training and testing the model"
      ]
    },
    {
      "cell_type": "code",
      "metadata": {
        "colab": {
          "base_uri": "https://localhost:8080/"
        },
        "id": "5qkKwZE3AUa7",
        "outputId": "8bb8dd88-0e07-47d5-fcc5-94aca42583e8"
      },
      "source": [
        "device = torch.device('cuda:0' if torch.cuda.is_available else 'cpu')\n",
        "device"
      ],
      "execution_count": null,
      "outputs": [
        {
          "output_type": "execute_result",
          "data": {
            "text/plain": [
              "device(type='cuda', index=0)"
            ]
          },
          "metadata": {
            "tags": []
          },
          "execution_count": 20
        }
      ]
    },
    {
      "cell_type": "code",
      "metadata": {
        "id": "FN6l_PUNrjol"
      },
      "source": [
        "model_2 = NN(resnet)\n",
        "model_2 = model_2.to(device)\n",
        "criterion = nn.MSELoss()\n",
        "\n",
        "num_epochs = 10\n",
        "learning_rate = 0.001\n",
        "\n",
        "optimizer = torch.optim.Adam(model_2.parameters(), lr=learning_rate)"
      ],
      "execution_count": null,
      "outputs": []
    },
    {
      "cell_type": "code",
      "metadata": {
        "colab": {
          "base_uri": "https://localhost:8080/"
        },
        "id": "O_K45Nbsru-R",
        "outputId": "7168c301-53b6-480d-dedb-2190da0125d8"
      },
      "source": [
        "for i, epoch in enumerate(range(num_epochs)):\n",
        "  epoch_r2_train = 0\n",
        "  for images, texts, labels in train_loader:\n",
        "    model_2.train()\n",
        "\n",
        "    # для GPU\n",
        "    images, texts, labels = images.to(device), texts.to(device), labels.to(device)\n",
        "\n",
        "    x_img, outputs = model_2(images, texts)\n",
        "    outputs = outputs.view(len(images),) \n",
        "    loss = criterion(outputs, labels)\n",
        "\n",
        "    # Обратное распространение и оптимизатор\n",
        "    optimizer.zero_grad()\n",
        "    loss.backward()\n",
        "    optimizer.step()\n",
        "\n",
        "    epoch_r2_train += r2_score(labels.cpu().detach().numpy(),outputs.cpu().detach().numpy())\n",
        "\n",
        "    model_2.eval()\n",
        "    all_outputs = torch.tensor([], dtype=torch.float32)\n",
        "    epoch_r2_test = 0\n",
        "\n",
        "    with torch.no_grad():\n",
        "      for images, texts, labels in test_loader:\n",
        "          # для GPU\n",
        "          images, texts, labels = images.to(device), texts.to(device), labels.to(device)\n",
        "\n",
        "          x_img, outputs = model_2(images, texts)\n",
        "          outputs = outputs.view(len(images),) \n",
        "\n",
        "          epoch_r2_test += r2_score(labels.cpu().detach().numpy(),outputs.cpu().detach().numpy())\n",
        "\n",
        "  print(i, 'Train: ', epoch_r2_train / len(train_loader))\n",
        "  print(i, 'Test: ', epoch_r2_test / len(test_loader))\n",
        "  if (epoch_r2_test / len(test_loader)) > 0.2:\n",
        "    break"
      ],
      "execution_count": null,
      "outputs": [
        {
          "output_type": "stream",
          "text": [
            "0 Train:  -1.7278906106151721\n",
            "0 Test:  -2.527307304498242\n",
            "1 Train:  -1.7525218839630432\n",
            "1 Test:  -2.2986634981071394\n",
            "2 Train:  -1.3219803159870056\n",
            "2 Test:  -1.6605419354078321\n",
            "3 Train:  -0.46006696645990014\n",
            "3 Test:  -0.7158425928648824\n",
            "4 Train:  0.19477736373534274\n",
            "4 Test:  0.24433947878132253\n"
          ],
          "name": "stdout"
        }
      ]
    },
    {
      "cell_type": "code",
      "metadata": {
        "id": "TTnTjOlqr_sY"
      },
      "source": [
        ""
      ],
      "execution_count": null,
      "outputs": []
    },
    {
      "cell_type": "markdown",
      "metadata": {
        "id": "5r4w8LRErYrA"
      },
      "source": [
        "# Model 3 (Transfer learning + boosting)"
      ]
    },
    {
      "cell_type": "markdown",
      "metadata": {
        "id": "C5xUicIsu3n6"
      },
      "source": [
        "## Network architecture"
      ]
    },
    {
      "cell_type": "code",
      "metadata": {
        "id": "GUuhlnx5bgj1"
      },
      "source": [
        "class NN_img(nn.Module):\n",
        "    def __init__(self, resnet_pretrained):\n",
        "        super().__init__()\n",
        "        self.resnet_pretrained = resnet_pretrained\n",
        "        self.fc1 = nn.Linear(1000, 256)\n",
        "        self.drop_layer1 = nn.Dropout(0.5)\n",
        "        self.fc2 = nn.Linear(256, 4)\n",
        "        self.drop_layer2 = nn.Dropout(0.25)\n",
        "        self.fc3 = nn.Linear(4, 1)\n",
        "        \n",
        "    def forward(self, x):\n",
        "        x = F.relu(self.resnet_pretrained(x))\n",
        "        x = self.drop_layer1(F.relu(self.fc1(x)))\n",
        "        x_img = self.drop_layer2(F.relu(self.fc2(x)))\n",
        "        output = self.fc3(x_img)\n",
        "\n",
        "        return x_img, output"
      ],
      "execution_count": null,
      "outputs": []
    },
    {
      "cell_type": "code",
      "metadata": {
        "id": "MJwwcHnUb10z"
      },
      "source": [
        "model_3 = NN_img(resnet)\n",
        "model_3 = model_3.to(device)\n",
        "criterion = nn.MSELoss()\n",
        "\n",
        "num_epochs = 7\n",
        "learning_rate = 0.001\n",
        "\n",
        "optimizer = torch.optim.Adam(model_3.parameters(), lr=learning_rate)"
      ],
      "execution_count": null,
      "outputs": []
    },
    {
      "cell_type": "code",
      "metadata": {
        "colab": {
          "base_uri": "https://localhost:8080/"
        },
        "id": "P1VwtU5fbuvf",
        "outputId": "3e2d926a-e26c-4e25-fb9d-49472e517a43"
      },
      "source": [
        "for i, epoch in enumerate(range(num_epochs)):\n",
        "  epoch_r2_train = 0\n",
        "  for images, texts, labels in train_loader:\n",
        "    model_3.train()\n",
        "\n",
        "    # для GPU\n",
        "    images, texts, labels = images.to(device), texts.to(device), labels.to(device)\n",
        "\n",
        "    x_img, outputs = model_3(images)\n",
        "    outputs = outputs.view(len(images),) \n",
        "    loss = criterion(outputs, labels)\n",
        "\n",
        "    # Обратное распространение и оптимизатор\n",
        "    optimizer.zero_grad()\n",
        "    loss.backward()\n",
        "    optimizer.step()\n",
        "\n",
        "    epoch_r2_train += r2_score(labels.cpu().detach().numpy(),outputs.cpu().detach().numpy())\n",
        "\n",
        "    model_3.eval()\n",
        "    all_outputs = torch.tensor([], dtype=torch.float32)\n",
        "    epoch_r2_test = 0\n",
        "\n",
        "    with torch.no_grad():\n",
        "      for images, texts, labels in test_loader:\n",
        "          # для GPU\n",
        "          images, texts, labels = images.to(device), texts.to(device), labels.to(device)\n",
        "\n",
        "          x_img, outputs = model_3(images)\n",
        "          outputs = outputs.view(len(images),) \n",
        "\n",
        "          epoch_r2_test += r2_score(labels.cpu().detach().numpy(),outputs.cpu().detach().numpy())\n",
        "\n",
        "  print(i, 'Train: ', epoch_r2_train / len(train_loader))\n",
        "  print(i, 'Test: ', epoch_r2_test / len(test_loader))"
      ],
      "execution_count": null,
      "outputs": [
        {
          "output_type": "stream",
          "text": [
            "0 Train:  -2.2254940221996966\n",
            "0 Test:  -2.6679117177559974\n",
            "1 Train:  -1.946955822852357\n",
            "1 Test:  -2.6411172493287327\n",
            "2 Train:  -1.8970441875875401\n",
            "2 Test:  -2.37889773533394\n",
            "3 Train:  -1.6400205627234725\n",
            "3 Test:  -2.1158543532577596\n",
            "4 Train:  -1.27262337969278\n",
            "4 Test:  -1.6875969774862158\n",
            "5 Train:  -0.5063120892350569\n",
            "5 Test:  -0.06886267578977504\n",
            "6 Train:  0.3258302677242242\n",
            "6 Test:  0.2593339411560568\n"
          ],
          "name": "stdout"
        }
      ]
    },
    {
      "cell_type": "code",
      "metadata": {
        "id": "Bl7tCczcrcXN"
      },
      "source": [
        "dataset = Images(images_frontal, x_text, y)\n",
        "dataloader = DataLoader(dataset, batch_size=30, shuffle=False)"
      ],
      "execution_count": null,
      "outputs": []
    },
    {
      "cell_type": "code",
      "metadata": {
        "id": "fg3R1vmercZp"
      },
      "source": [
        "model_3.eval()\n",
        "image_features = torch.tensor([], dtype=torch.long)\n",
        "\n",
        "with torch.no_grad():\n",
        "  for images, texts, labels in dataloader:\n",
        "    images, texts, labels = images.to(device), texts.to(device), labels.to(device)\n",
        "\n",
        "    x_img, outputs = model_3(images)\n",
        "    image_features = torch.cat((image_features, x_img.cpu()), 0)\n",
        "    "
      ],
      "execution_count": null,
      "outputs": []
    },
    {
      "cell_type": "markdown",
      "metadata": {
        "id": "E-MXjAH8H9X6"
      },
      "source": [
        "## Concatenate image features and table data"
      ]
    },
    {
      "cell_type": "code",
      "metadata": {
        "colab": {
          "base_uri": "https://localhost:8080/"
        },
        "id": "-ip8CKiBembj",
        "outputId": "e387240a-b841-4410-f789-be64a02c632c"
      },
      "source": [
        "image_features.numpy()"
      ],
      "execution_count": null,
      "outputs": [
        {
          "output_type": "execute_result",
          "data": {
            "text/plain": [
              "array([[      0.  , 1461055.6 ,       0.  ,       0.  ],\n",
              "       [      0.  , 1852966.8 ,       0.  ,       0.  ],\n",
              "       [      0.  , 2056984.5 ,       0.  ,       0.  ],\n",
              "       ...,\n",
              "       [      0.  ,  423900.72,       0.  ,       0.  ],\n",
              "       [      0.  ,  361492.4 ,       0.  ,       0.  ],\n",
              "       [      0.  , 1208140.2 ,       0.  ,       0.  ]], dtype=float32)"
            ]
          },
          "metadata": {
            "tags": []
          },
          "execution_count": 28
        }
      ]
    },
    {
      "cell_type": "code",
      "metadata": {
        "colab": {
          "base_uri": "https://localhost:8080/"
        },
        "id": "oOEEuO61hMlc",
        "outputId": "886f3c12-1ad1-4325-d92b-185c01868220"
      },
      "source": [
        "x_text = text_data.drop(['price'], axis=1)\n",
        "x_text.to_numpy()"
      ],
      "execution_count": null,
      "outputs": [
        {
          "output_type": "execute_result",
          "data": {
            "text/plain": [
              "array([[4.00000000e+00, 4.00000000e+00, 4.05300000e+03, 8.52550000e+04,\n",
              "        1.00000000e+00, 1.01325000e+03],\n",
              "       [4.00000000e+00, 3.00000000e+00, 3.34300000e+03, 3.63720000e+04,\n",
              "        1.33333333e+00, 8.35750000e+02],\n",
              "       [3.00000000e+00, 4.00000000e+00, 3.92300000e+03, 8.52660000e+04,\n",
              "        7.50000000e-01, 1.30766667e+03],\n",
              "       ...,\n",
              "       [3.00000000e+00, 2.00000000e+00, 2.01400000e+03, 9.45310000e+04,\n",
              "        1.50000000e+00, 6.71333333e+02],\n",
              "       [4.00000000e+00, 3.00000000e+00, 2.31200000e+03, 9.45310000e+04,\n",
              "        1.33333333e+00, 5.78000000e+02],\n",
              "       [5.00000000e+00, 3.00000000e+00, 3.79600000e+03, 9.45310000e+04,\n",
              "        1.66666667e+00, 7.59200000e+02]])"
            ]
          },
          "metadata": {
            "tags": []
          },
          "execution_count": 141
        }
      ]
    },
    {
      "cell_type": "code",
      "metadata": {
        "colab": {
          "base_uri": "https://localhost:8080/"
        },
        "id": "8oAwD2AkhKiZ",
        "outputId": "227520f5-621e-4e4e-c7f3-aff07aa459cd"
      },
      "source": [
        "X = np.concatenate((image_features.numpy(), x_text.to_numpy()), axis=1)\n",
        "X.shape"
      ],
      "execution_count": null,
      "outputs": [
        {
          "output_type": "execute_result",
          "data": {
            "text/plain": [
              "(535, 10)"
            ]
          },
          "metadata": {
            "tags": []
          },
          "execution_count": 142
        }
      ]
    },
    {
      "cell_type": "code",
      "metadata": {
        "colab": {
          "base_uri": "https://localhost:8080/"
        },
        "id": "uTeZA-ejfeKe",
        "outputId": "b128ffc9-81b6-476a-a941-3b958f6ed317"
      },
      "source": [
        "# стандартизация переменных\n",
        "sc = StandardScaler()\n",
        "sc.fit(X)\n",
        "\n",
        "#преобразование данных\n",
        "X = sc.transform(X)\n",
        "X"
      ],
      "execution_count": null,
      "outputs": [
        {
          "output_type": "execute_result",
          "data": {
            "text/plain": [
              "array([[ 0.45149963,  0.        ,  0.        , ..., -0.7964436 ,\n",
              "        -0.85236171,  1.31793775],\n",
              "       [ 0.7233313 ,  0.        ,  0.        , ..., -7.64742733,\n",
              "         0.02136044,  0.58508829],\n",
              "       [ 0.85220673,  0.        ,  0.        , ..., -0.79490195,\n",
              "        -1.50765333,  2.53350449],\n",
              "       ...,\n",
              "       [-0.2388345 ,  0.        ,  0.        , ...,  0.50359373,\n",
              "         0.45822152, -0.09374363],\n",
              "       [-0.28527664,  0.        ,  0.        , ...,  0.50359373,\n",
              "         0.02136044, -0.4790917 ],\n",
              "       [ 0.27478961,  0.        ,  0.        , ...,  0.50359373,\n",
              "         0.8950826 ,  0.26903406]])"
            ]
          },
          "metadata": {
            "tags": []
          },
          "execution_count": 143
        }
      ]
    },
    {
      "cell_type": "code",
      "metadata": {
        "colab": {
          "base_uri": "https://localhost:8080/",
          "height": 407
        },
        "id": "ELGc8jTemlt4",
        "outputId": "bec9b6cd-c0c9-45df-c010-ce6e16e14be1"
      },
      "source": [
        "X = pd.DataFrame(X, columns=['1', '2', '3', '4', \n",
        "                             'bedrooms',\t'bathrooms',\t'area',\t'zipcode', 'areaPerBedroom', 'bedroomsPerArea'])\n",
        "\n",
        "X.drop(['2','3'], axis=1, inplace=True)\n",
        "X"
      ],
      "execution_count": null,
      "outputs": [
        {
          "output_type": "execute_result",
          "data": {
            "text/html": [
              "<div>\n",
              "<style scoped>\n",
              "    .dataframe tbody tr th:only-of-type {\n",
              "        vertical-align: middle;\n",
              "    }\n",
              "\n",
              "    .dataframe tbody tr th {\n",
              "        vertical-align: top;\n",
              "    }\n",
              "\n",
              "    .dataframe thead th {\n",
              "        text-align: right;\n",
              "    }\n",
              "</style>\n",
              "<table border=\"1\" class=\"dataframe\">\n",
              "  <thead>\n",
              "    <tr style=\"text-align: right;\">\n",
              "      <th></th>\n",
              "      <th>1</th>\n",
              "      <th>4</th>\n",
              "      <th>bedrooms</th>\n",
              "      <th>bathrooms</th>\n",
              "      <th>area</th>\n",
              "      <th>zipcode</th>\n",
              "      <th>areaPerBedroom</th>\n",
              "      <th>bedroomsPerArea</th>\n",
              "    </tr>\n",
              "  </thead>\n",
              "  <tbody>\n",
              "    <tr>\n",
              "      <th>0</th>\n",
              "      <td>0.451500</td>\n",
              "      <td>0.451500</td>\n",
              "      <td>0.536639</td>\n",
              "      <td>1.342907</td>\n",
              "      <td>1.379826</td>\n",
              "      <td>-0.796444</td>\n",
              "      <td>-0.852362</td>\n",
              "      <td>1.317938</td>\n",
              "    </tr>\n",
              "    <tr>\n",
              "      <th>1</th>\n",
              "      <td>0.723331</td>\n",
              "      <td>0.723331</td>\n",
              "      <td>0.536639</td>\n",
              "      <td>0.337019</td>\n",
              "      <td>0.799482</td>\n",
              "      <td>-7.647427</td>\n",
              "      <td>0.021360</td>\n",
              "      <td>0.585088</td>\n",
              "    </tr>\n",
              "    <tr>\n",
              "      <th>2</th>\n",
              "      <td>0.852207</td>\n",
              "      <td>0.852206</td>\n",
              "      <td>-0.325529</td>\n",
              "      <td>1.342907</td>\n",
              "      <td>1.273566</td>\n",
              "      <td>-0.794902</td>\n",
              "      <td>-1.507653</td>\n",
              "      <td>2.533504</td>\n",
              "    </tr>\n",
              "    <tr>\n",
              "      <th>3</th>\n",
              "      <td>0.361058</td>\n",
              "      <td>0.361058</td>\n",
              "      <td>1.398807</td>\n",
              "      <td>2.348795</td>\n",
              "      <td>1.354487</td>\n",
              "      <td>-0.795463</td>\n",
              "      <td>-0.852362</td>\n",
              "      <td>0.455653</td>\n",
              "    </tr>\n",
              "    <tr>\n",
              "      <th>4</th>\n",
              "      <td>0.597450</td>\n",
              "      <td>0.597450</td>\n",
              "      <td>-0.325529</td>\n",
              "      <td>1.342907</td>\n",
              "      <td>1.431321</td>\n",
              "      <td>-0.794902</td>\n",
              "      <td>-1.507653</td>\n",
              "      <td>2.799119</td>\n",
              "    </tr>\n",
              "    <tr>\n",
              "      <th>...</th>\n",
              "      <td>...</td>\n",
              "      <td>...</td>\n",
              "      <td>...</td>\n",
              "      <td>...</td>\n",
              "      <td>...</td>\n",
              "      <td>...</td>\n",
              "      <td>...</td>\n",
              "      <td>...</td>\n",
              "    </tr>\n",
              "    <tr>\n",
              "      <th>530</th>\n",
              "      <td>0.116195</td>\n",
              "      <td>0.116196</td>\n",
              "      <td>1.398807</td>\n",
              "      <td>-0.668868</td>\n",
              "      <td>-0.244321</td>\n",
              "      <td>0.503594</td>\n",
              "      <td>3.079388</td>\n",
              "      <td>-1.159506</td>\n",
              "    </tr>\n",
              "    <tr>\n",
              "      <th>531</th>\n",
              "      <td>-0.821450</td>\n",
              "      <td>-0.821450</td>\n",
              "      <td>0.536639</td>\n",
              "      <td>0.839963</td>\n",
              "      <td>5.861554</td>\n",
              "      <td>0.503594</td>\n",
              "      <td>-0.477909</td>\n",
              "      <td>6.977394</td>\n",
              "    </tr>\n",
              "    <tr>\n",
              "      <th>532</th>\n",
              "      <td>-0.238834</td>\n",
              "      <td>-0.238834</td>\n",
              "      <td>-0.325529</td>\n",
              "      <td>-0.668868</td>\n",
              "      <td>-0.286825</td>\n",
              "      <td>0.503594</td>\n",
              "      <td>0.458222</td>\n",
              "      <td>-0.093744</td>\n",
              "    </tr>\n",
              "    <tr>\n",
              "      <th>533</th>\n",
              "      <td>-0.285277</td>\n",
              "      <td>-0.285276</td>\n",
              "      <td>0.536639</td>\n",
              "      <td>0.337019</td>\n",
              "      <td>-0.043244</td>\n",
              "      <td>0.503594</td>\n",
              "      <td>0.021360</td>\n",
              "      <td>-0.479092</td>\n",
              "    </tr>\n",
              "    <tr>\n",
              "      <th>534</th>\n",
              "      <td>0.274790</td>\n",
              "      <td>0.274790</td>\n",
              "      <td>1.398807</td>\n",
              "      <td>0.337019</td>\n",
              "      <td>1.169757</td>\n",
              "      <td>0.503594</td>\n",
              "      <td>0.895083</td>\n",
              "      <td>0.269034</td>\n",
              "    </tr>\n",
              "  </tbody>\n",
              "</table>\n",
              "<p>535 rows × 8 columns</p>\n",
              "</div>"
            ],
            "text/plain": [
              "            1         4  bedrooms  ...   zipcode  areaPerBedroom  bedroomsPerArea\n",
              "0    0.451500  0.451500  0.536639  ... -0.796444       -0.852362         1.317938\n",
              "1    0.723331  0.723331  0.536639  ... -7.647427        0.021360         0.585088\n",
              "2    0.852207  0.852206 -0.325529  ... -0.794902       -1.507653         2.533504\n",
              "3    0.361058  0.361058  1.398807  ... -0.795463       -0.852362         0.455653\n",
              "4    0.597450  0.597450 -0.325529  ... -0.794902       -1.507653         2.799119\n",
              "..        ...       ...       ...  ...       ...             ...              ...\n",
              "530  0.116195  0.116196  1.398807  ...  0.503594        3.079388        -1.159506\n",
              "531 -0.821450 -0.821450  0.536639  ...  0.503594       -0.477909         6.977394\n",
              "532 -0.238834 -0.238834 -0.325529  ...  0.503594        0.458222        -0.093744\n",
              "533 -0.285277 -0.285276  0.536639  ...  0.503594        0.021360        -0.479092\n",
              "534  0.274790  0.274790  1.398807  ...  0.503594        0.895083         0.269034\n",
              "\n",
              "[535 rows x 8 columns]"
            ]
          },
          "metadata": {
            "tags": []
          },
          "execution_count": 144
        }
      ]
    },
    {
      "cell_type": "code",
      "metadata": {
        "colab": {
          "base_uri": "https://localhost:8080/"
        },
        "id": "SXTIdeSQh2jD",
        "outputId": "8e2e51df-6de4-4276-f632-13669cba2bde"
      },
      "source": [
        "y = text_data.price\n",
        "y"
      ],
      "execution_count": null,
      "outputs": [
        {
          "output_type": "execute_result",
          "data": {
            "text/plain": [
              "0      869500\n",
              "1      865200\n",
              "2      889000\n",
              "3      910000\n",
              "4      971226\n",
              "        ...  \n",
              "530    399900\n",
              "531    460000\n",
              "532    407000\n",
              "533    419000\n",
              "534    615000\n",
              "Name: price, Length: 535, dtype: int64"
            ]
          },
          "metadata": {
            "tags": []
          },
          "execution_count": 145
        }
      ]
    },
    {
      "cell_type": "markdown",
      "metadata": {
        "id": "DjDdD4A1IG9e"
      },
      "source": [
        "## CatBoost"
      ]
    },
    {
      "cell_type": "code",
      "metadata": {
        "id": "D6SzUNLigUu_"
      },
      "source": [
        "# разобьем данные на train и test, чтобы можно было проверить качество модели\n",
        "from sklearn.model_selection import train_test_split\n",
        "\n",
        "X_train, X_test, y_train, y_test = train_test_split(X, y, test_size=0.2, random_state=42)"
      ],
      "execution_count": null,
      "outputs": []
    },
    {
      "cell_type": "code",
      "metadata": {
        "id": "U7b770PWgU6f"
      },
      "source": [
        "!pip install catboost"
      ],
      "execution_count": null,
      "outputs": []
    },
    {
      "cell_type": "code",
      "metadata": {
        "id": "gzAnDqBUgVLm"
      },
      "source": [
        "from catboost import CatBoostRegressor\n",
        "\n",
        "CBmodel = CatBoostRegressor(depth=6, l2_leaf_reg=9, learning_rate=0.1)\n",
        "CBmodel.fit(X_train, y_train)"
      ],
      "execution_count": null,
      "outputs": []
    },
    {
      "cell_type": "code",
      "metadata": {
        "colab": {
          "base_uri": "https://localhost:8080/"
        },
        "id": "IRykok_1gdc7",
        "outputId": "1f86ca20-0f37-40e1-9745-897f99e4c9b0"
      },
      "source": [
        "print(\"R-squared for Train: \", CBmodel.score(X_train, y_train))\n",
        "print(\"R-squared for Test: \", CBmodel.score(X_test, y_test))"
      ],
      "execution_count": null,
      "outputs": [
        {
          "output_type": "stream",
          "text": [
            "R-squared for Train:  0.9983561438977512\n",
            "R-squared for Test:  0.34492999850084816\n"
          ],
          "name": "stdout"
        }
      ]
    },
    {
      "cell_type": "code",
      "metadata": {
        "colab": {
          "base_uri": "https://localhost:8080/",
          "height": 287
        },
        "id": "Q4-xcnzJiARw",
        "outputId": "0d8cf10b-ac8e-49f7-cec3-5bcc09036bfe"
      },
      "source": [
        "pd.DataFrame({'feature_importance': CBmodel.get_feature_importance(), \n",
        "              'feature_names': X_train.columns}).sort_values(by=['feature_importance'], \n",
        "                                                           ascending=False)"
      ],
      "execution_count": null,
      "outputs": [
        {
          "output_type": "execute_result",
          "data": {
            "text/html": [
              "<div>\n",
              "<style scoped>\n",
              "    .dataframe tbody tr th:only-of-type {\n",
              "        vertical-align: middle;\n",
              "    }\n",
              "\n",
              "    .dataframe tbody tr th {\n",
              "        vertical-align: top;\n",
              "    }\n",
              "\n",
              "    .dataframe thead th {\n",
              "        text-align: right;\n",
              "    }\n",
              "</style>\n",
              "<table border=\"1\" class=\"dataframe\">\n",
              "  <thead>\n",
              "    <tr style=\"text-align: right;\">\n",
              "      <th></th>\n",
              "      <th>feature_importance</th>\n",
              "      <th>feature_names</th>\n",
              "    </tr>\n",
              "  </thead>\n",
              "  <tbody>\n",
              "    <tr>\n",
              "      <th>1</th>\n",
              "      <td>52.636067</td>\n",
              "      <td>4</td>\n",
              "    </tr>\n",
              "    <tr>\n",
              "      <th>0</th>\n",
              "      <td>29.727613</td>\n",
              "      <td>1</td>\n",
              "    </tr>\n",
              "    <tr>\n",
              "      <th>5</th>\n",
              "      <td>4.176868</td>\n",
              "      <td>zipcode</td>\n",
              "    </tr>\n",
              "    <tr>\n",
              "      <th>7</th>\n",
              "      <td>3.719250</td>\n",
              "      <td>bedroomsPerArea</td>\n",
              "    </tr>\n",
              "    <tr>\n",
              "      <th>4</th>\n",
              "      <td>3.494976</td>\n",
              "      <td>area</td>\n",
              "    </tr>\n",
              "    <tr>\n",
              "      <th>6</th>\n",
              "      <td>2.878840</td>\n",
              "      <td>areaPerBedroom</td>\n",
              "    </tr>\n",
              "    <tr>\n",
              "      <th>3</th>\n",
              "      <td>2.673725</td>\n",
              "      <td>bathrooms</td>\n",
              "    </tr>\n",
              "    <tr>\n",
              "      <th>2</th>\n",
              "      <td>0.692661</td>\n",
              "      <td>bedrooms</td>\n",
              "    </tr>\n",
              "  </tbody>\n",
              "</table>\n",
              "</div>"
            ],
            "text/plain": [
              "   feature_importance    feature_names\n",
              "1           52.636067                4\n",
              "0           29.727613                1\n",
              "5            4.176868          zipcode\n",
              "7            3.719250  bedroomsPerArea\n",
              "4            3.494976             area\n",
              "6            2.878840   areaPerBedroom\n",
              "3            2.673725        bathrooms\n",
              "2            0.692661         bedrooms"
            ]
          },
          "metadata": {
            "tags": []
          },
          "execution_count": 156
        }
      ]
    },
    {
      "cell_type": "code",
      "metadata": {
        "id": "_uACibOjmfvN"
      },
      "source": [
        ""
      ],
      "execution_count": null,
      "outputs": []
    }
  ]
}